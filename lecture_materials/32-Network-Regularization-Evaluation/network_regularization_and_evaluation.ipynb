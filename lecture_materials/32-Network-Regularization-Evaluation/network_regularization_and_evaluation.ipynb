{
 "cells": [
  {
   "cell_type": "markdown",
   "metadata": {
    "slideshow": {
     "slide_type": "slide"
    }
   },
   "source": [
    "# Regularization and Evaluation of Neural Networks"
   ]
  },
  {
   "cell_type": "code",
   "execution_count": 2,
   "metadata": {},
   "outputs": [],
   "source": [
    "from sklearn.datasets import load_sample_images\n",
    "from sklearn.datasets import load_digits\n",
    "from sklearn.model_selection import train_test_split, cross_val_score\n",
    "from sklearn.preprocessing import OneHotEncoder\n",
    "from sklearn.metrics import accuracy_score, confusion_matrix\n",
    "import matplotlib.pyplot as plt\n",
    "import matplotlib.image as mpimg\n",
    "import numpy as np\n",
    "import seaborn as sns\n",
    "\n",
    "from tensorflow.keras.models import Sequential\n",
    "from tensorflow.keras.layers import Dense, Dropout\n",
    "from tensorflow.keras.regularizers import l2\n",
    "from tensorflow.keras.optimizers import SGD\n",
    "# from tensorflow.keras.wrappers import scikit_learn\n",
    "from tensorflow.keras.callbacks import EarlyStopping\n",
    "\n",
    "from scikeras.wrappers import KerasClassifier\n",
    "\n",
    "import os\n",
    "import sys\n",
    "module_path = os.path.abspath(os.path.join(os.pardir, os.pardir))\n",
    "if module_path not in sys.path:\n",
    "    sys.path.append(module_path)\n",
    "    \n",
    "%load_ext autoreload\n",
    "%autoreload 2"
   ]
  },
  {
   "cell_type": "code",
   "execution_count": 3,
   "metadata": {},
   "outputs": [],
   "source": [
    "# If you don't have scikeras installed, uncomment and run\n",
    "\n",
    "# pip install scikeras"
   ]
  },
  {
   "cell_type": "markdown",
   "metadata": {},
   "source": [
    "## Learning Objectives\n",
    "\n",
    "- use `keras` to code up a neural network model;\n",
    "- explain dropout and early stopping as distinctive forms of regularization in neural networks;\n",
    "- use wrappers inside `keras` to make models that can jibe with `sklearn`."
   ]
  },
  {
   "cell_type": "markdown",
   "metadata": {},
   "source": [
    "### From last time"
   ]
  },
  {
   "cell_type": "code",
   "execution_count": 4,
   "metadata": {},
   "outputs": [],
   "source": [
    "digits = load_digits()\n",
    "X = digits.data\n",
    "y = digits.target\n",
    "\n",
    "y_binary = y % 2"
   ]
  },
  {
   "cell_type": "code",
   "execution_count": 5,
   "metadata": {},
   "outputs": [
    {
     "name": "stdout",
     "output_type": "stream",
     "text": [
      "Epoch 1/50\n",
      "180/180 [==============================] - 1s 792us/step - loss: 0.6788 - accuracy: 0.7307\n",
      "Epoch 2/50\n",
      "180/180 [==============================] - 0s 778us/step - loss: 0.4158 - accuracy: 0.8893\n",
      "Epoch 3/50\n",
      "180/180 [==============================] - 0s 860us/step - loss: 0.3560 - accuracy: 0.9232\n",
      "Epoch 4/50\n",
      "180/180 [==============================] - 0s 793us/step - loss: 0.3089 - accuracy: 0.9438\n",
      "Epoch 5/50\n",
      "180/180 [==============================] - 0s 767us/step - loss: 0.2599 - accuracy: 0.9566\n",
      "Epoch 6/50\n",
      "180/180 [==============================] - 0s 1ms/step - loss: 0.2065 - accuracy: 0.9627\n",
      "Epoch 7/50\n",
      "180/180 [==============================] - 0s 772us/step - loss: 0.1374 - accuracy: 0.9588\n",
      "Epoch 8/50\n",
      "180/180 [==============================] - 0s 751us/step - loss: 0.0940 - accuracy: 0.9661\n",
      "Epoch 9/50\n",
      "180/180 [==============================] - 0s 757us/step - loss: 0.0752 - accuracy: 0.9733\n",
      "Epoch 10/50\n",
      "180/180 [==============================] - 0s 747us/step - loss: 0.0668 - accuracy: 0.9777\n",
      "Epoch 11/50\n",
      "180/180 [==============================] - 0s 797us/step - loss: 0.0563 - accuracy: 0.9794\n",
      "Epoch 12/50\n",
      "180/180 [==============================] - 0s 769us/step - loss: 0.0533 - accuracy: 0.9800\n",
      "Epoch 13/50\n",
      "180/180 [==============================] - 0s 861us/step - loss: 0.0484 - accuracy: 0.9827\n",
      "Epoch 14/50\n",
      "180/180 [==============================] - 0s 765us/step - loss: 0.0437 - accuracy: 0.9839\n",
      "Epoch 15/50\n",
      "180/180 [==============================] - 0s 762us/step - loss: 0.0382 - accuracy: 0.9894\n",
      "Epoch 16/50\n",
      "180/180 [==============================] - 0s 787us/step - loss: 0.0348 - accuracy: 0.9866\n",
      "Epoch 17/50\n",
      "180/180 [==============================] - 0s 783us/step - loss: 0.0346 - accuracy: 0.9861\n",
      "Epoch 18/50\n",
      "180/180 [==============================] - 0s 772us/step - loss: 0.0308 - accuracy: 0.9905\n",
      "Epoch 19/50\n",
      "180/180 [==============================] - 0s 789us/step - loss: 0.0299 - accuracy: 0.9900\n",
      "Epoch 20/50\n",
      "180/180 [==============================] - 0s 781us/step - loss: 0.0249 - accuracy: 0.9911\n",
      "Epoch 21/50\n",
      "180/180 [==============================] - 0s 861us/step - loss: 0.0253 - accuracy: 0.9917\n",
      "Epoch 22/50\n",
      "180/180 [==============================] - 0s 805us/step - loss: 0.0221 - accuracy: 0.9933\n",
      "Epoch 23/50\n",
      "180/180 [==============================] - 0s 743us/step - loss: 0.0186 - accuracy: 0.9928\n",
      "Epoch 24/50\n",
      "180/180 [==============================] - 0s 778us/step - loss: 0.0177 - accuracy: 0.9944\n",
      "Epoch 25/50\n",
      "180/180 [==============================] - 0s 764us/step - loss: 0.0152 - accuracy: 0.9950\n",
      "Epoch 26/50\n",
      "180/180 [==============================] - 0s 761us/step - loss: 0.0152 - accuracy: 0.9950\n",
      "Epoch 27/50\n",
      "180/180 [==============================] - 0s 773us/step - loss: 0.0134 - accuracy: 0.9955\n",
      "Epoch 28/50\n",
      "180/180 [==============================] - 0s 806us/step - loss: 0.0119 - accuracy: 0.9967\n",
      "Epoch 29/50\n",
      "180/180 [==============================] - 0s 790us/step - loss: 0.0100 - accuracy: 0.9961\n",
      "Epoch 30/50\n",
      "180/180 [==============================] - 0s 774us/step - loss: 0.0086 - accuracy: 0.9978\n",
      "Epoch 31/50\n",
      "180/180 [==============================] - 0s 764us/step - loss: 0.0092 - accuracy: 0.9967\n",
      "Epoch 32/50\n",
      "180/180 [==============================] - 0s 786us/step - loss: 0.0092 - accuracy: 0.9967\n",
      "Epoch 33/50\n",
      "180/180 [==============================] - 0s 779us/step - loss: 0.0074 - accuracy: 0.9967\n",
      "Epoch 34/50\n",
      "180/180 [==============================] - 0s 783us/step - loss: 0.0050 - accuracy: 0.9978\n",
      "Epoch 35/50\n",
      "180/180 [==============================] - 0s 821us/step - loss: 0.0065 - accuracy: 0.9978\n",
      "Epoch 36/50\n",
      "180/180 [==============================] - 0s 848us/step - loss: 0.0059 - accuracy: 0.9983\n",
      "Epoch 37/50\n",
      "180/180 [==============================] - 0s 760us/step - loss: 0.0051 - accuracy: 0.9983\n",
      "Epoch 38/50\n",
      "180/180 [==============================] - 0s 764us/step - loss: 0.0067 - accuracy: 0.9978\n",
      "Epoch 39/50\n",
      "180/180 [==============================] - 0s 758us/step - loss: 0.0042 - accuracy: 0.9983\n",
      "Epoch 40/50\n",
      "180/180 [==============================] - 0s 853us/step - loss: 0.0049 - accuracy: 0.9989\n",
      "Epoch 41/50\n",
      "180/180 [==============================] - 0s 813us/step - loss: 0.0051 - accuracy: 0.9989\n",
      "Epoch 42/50\n",
      "180/180 [==============================] - 0s 763us/step - loss: 0.0034 - accuracy: 0.9989\n",
      "Epoch 43/50\n",
      "180/180 [==============================] - 0s 766us/step - loss: 0.0032 - accuracy: 0.9989\n",
      "Epoch 44/50\n",
      "180/180 [==============================] - 0s 872us/step - loss: 0.0028 - accuracy: 0.9989\n",
      "Epoch 45/50\n",
      "180/180 [==============================] - 0s 785us/step - loss: 0.0020 - accuracy: 0.9994\n",
      "Epoch 46/50\n",
      "180/180 [==============================] - 0s 753us/step - loss: 0.0039 - accuracy: 0.9978\n",
      "Epoch 47/50\n",
      "180/180 [==============================] - 0s 758us/step - loss: 0.0033 - accuracy: 0.9989\n",
      "Epoch 48/50\n",
      "180/180 [==============================] - 0s 778us/step - loss: 0.0015 - accuracy: 1.0000\n",
      "Epoch 49/50\n",
      "180/180 [==============================] - 0s 768us/step - loss: 0.0019 - accuracy: 0.9994\n",
      "Epoch 50/50\n",
      "180/180 [==============================] - 0s 935us/step - loss: 0.0012 - accuracy: 1.0000\n"
     ]
    },
    {
     "data": {
      "text/plain": [
       "<keras.src.callbacks.History at 0x7fea71c8d8e0>"
      ]
     },
     "execution_count": 5,
     "metadata": {},
     "output_type": "execute_result"
    }
   ],
   "source": [
    "model = Sequential()\n",
    "model.add(Dense(12, activation='relu', input_dim=64))\n",
    "model.add(Dense(8, activation='relu'))\n",
    "model.add(Dense(1, activation='sigmoid'))\n",
    "\n",
    "model.compile(optimizer='rmsprop',\n",
    "              loss='binary_crossentropy',\n",
    "              metrics=['accuracy'])\n",
    "\n",
    "model.fit(X, y_binary, epochs=50, batch_size=10)"
   ]
  },
  {
   "cell_type": "markdown",
   "metadata": {},
   "source": [
    "### Things to know:\n",
    "\n",
    "- The data and labels in `fit()` need to be numpy arrays, not `pandas` dfs.\n",
    "- Scaling your data will have a large impact on your model.\n",
    "   > For our traditional input features, we would use a scaler object. For images, as long as the minimum value is 0, we can simply divide through by the maximum pixel intensity."
   ]
  },
  {
   "cell_type": "markdown",
   "metadata": {},
   "source": [
    "#### Getting data ready for modeling\n",
    "**Preprocessing**:\n",
    "\n",
    "- use train_test_split to create X_train, y_train, X_test, and y_test\n",
    "- Split training data into pure_train and validation sets.\n",
    "- Scale the pixel intensity to a value between 0 and 1."
   ]
  },
  {
   "cell_type": "markdown",
   "metadata": {},
   "source": [
    "Scaling our input variables will help speed up our neural network.\n",
    "\n",
    "Since our minimum intensity is 0, we can normalize the inputs by dividing each value by the max value (16)."
   ]
  },
  {
   "cell_type": "code",
   "execution_count": 7,
   "metadata": {},
   "outputs": [],
   "source": [
    "X_train, X_test, y_train, y_test =\\\n",
    "    train_test_split(X, y_binary, random_state=42, test_size=0.2)\n",
    "\n",
    "X_pure_train, X_val, y_pure_train, y_val =\\\n",
    "    train_test_split(X_train, y_train, random_state=42, test_size=0.2)\n",
    "\n",
    "X_pure_train, X_val, X_test = X_pure_train/16, X_val/16, X_test/16"
   ]
  },
  {
   "cell_type": "markdown",
   "metadata": {},
   "source": [
    "For activation, let's start with the familiar sigmoid function, and see how it performs."
   ]
  },
  {
   "cell_type": "code",
   "execution_count": 8,
   "metadata": {},
   "outputs": [
    {
     "name": "stdout",
     "output_type": "stream",
     "text": [
      "Epoch 1/10\n",
      "12/12 [==============================] - 0s 931us/step - loss: 0.7211 - accuracy: 0.4961\n",
      "Epoch 2/10\n",
      "12/12 [==============================] - 0s 1ms/step - loss: 0.7154 - accuracy: 0.4961\n",
      "Epoch 3/10\n",
      "12/12 [==============================] - 0s 1ms/step - loss: 0.7109 - accuracy: 0.4961\n",
      "Epoch 4/10\n",
      "12/12 [==============================] - 0s 1ms/step - loss: 0.7071 - accuracy: 0.4961\n",
      "Epoch 5/10\n",
      "12/12 [==============================] - 0s 1ms/step - loss: 0.7043 - accuracy: 0.4961\n",
      "Epoch 6/10\n",
      "12/12 [==============================] - 0s 1ms/step - loss: 0.7021 - accuracy: 0.4961\n",
      "Epoch 7/10\n",
      "12/12 [==============================] - 0s 1ms/step - loss: 0.7004 - accuracy: 0.4961\n",
      "Epoch 8/10\n",
      "12/12 [==============================] - 0s 1ms/step - loss: 0.6990 - accuracy: 0.4961\n",
      "Epoch 9/10\n",
      "12/12 [==============================] - 0s 1ms/step - loss: 0.6977 - accuracy: 0.4961\n",
      "Epoch 10/10\n",
      "12/12 [==============================] - 0s 1ms/step - loss: 0.6968 - accuracy: 0.4961\n"
     ]
    }
   ],
   "source": [
    "model = Sequential()\n",
    "# We will start with our trusty sigmoid function.\n",
    "# What does input dimension correspond to?\n",
    "model.add(Dense(12, activation='sigmoid', input_dim=64))\n",
    "model.add(Dense(8, activation='sigmoid'))\n",
    "model.add(Dense(1, activation='sigmoid'))\n",
    "\n",
    "model.compile(optimizer='SGD' ,\n",
    "              # We use binary_crossentropy for a binary loss function\n",
    "              loss='binary_crossentropy',\n",
    "              metrics=['accuracy'])\n",
    "\n",
    "# Assign the variable history to store the results,\n",
    "# and set verbose=1 so we can see the output. To see\n",
    "# only the metrics at the end of each epoch, set verbose=2.\n",
    "results = model.fit(X_pure_train, y_pure_train, epochs=10, batch_size=100, verbose=1)"
   ]
  },
  {
   "cell_type": "markdown",
   "metadata": {},
   "source": [
    "We can access the history of our model via `results.history`.\n",
    "Use __dict__ to take a tour."
   ]
  },
  {
   "cell_type": "code",
   "execution_count": 9,
   "metadata": {},
   "outputs": [
    {
     "data": {
      "text/plain": [
       "{'validation_data': None,\n",
       " 'model': <keras.src.engine.sequential.Sequential at 0x7fea826f1d30>,\n",
       " '_chief_worker_only': None,\n",
       " '_supports_tf_logs': False,\n",
       " 'history': {'loss': [0.7210773825645447,\n",
       "   0.7154002785682678,\n",
       "   0.7109240293502808,\n",
       "   0.7071137428283691,\n",
       "   0.7043195962905884,\n",
       "   0.7021074891090393,\n",
       "   0.7003837823867798,\n",
       "   0.6989787817001343,\n",
       "   0.6977455615997314,\n",
       "   0.6967890858650208],\n",
       "  'accuracy': [0.4960835576057434,\n",
       "   0.4960835576057434,\n",
       "   0.4960835576057434,\n",
       "   0.4960835576057434,\n",
       "   0.4960835576057434,\n",
       "   0.4960835576057434,\n",
       "   0.4960835576057434,\n",
       "   0.4960835576057434,\n",
       "   0.4960835576057434,\n",
       "   0.4960835576057434]},\n",
       " 'params': {'verbose': 1, 'epochs': 10, 'steps': 12},\n",
       " 'epoch': [0, 1, 2, 3, 4, 5, 6, 7, 8, 9]}"
      ]
     },
     "execution_count": 9,
     "metadata": {},
     "output_type": "execute_result"
    }
   ],
   "source": [
    "results.__dict__"
   ]
  },
  {
   "cell_type": "code",
   "execution_count": 10,
   "metadata": {},
   "outputs": [
    {
     "data": {
      "image/png": "[encoded data removed]",
      "text/plain": [
       "<Figure size 720x360 with 2 Axes>"
      ]
     },
     "metadata": {
      "needs_background": "light"
     },
     "output_type": "display_data"
    }
   ],
   "source": [
    "sigmoid_loss = results.history['loss']\n",
    "sigmoid_accuracy = results.history['accuracy']\n",
    "\n",
    "fig, (ax1, ax2) = plt.subplots(1, 2, figsize=(10, 5))\n",
    "sns.lineplot(x=results.epoch, y=sigmoid_loss, ax=ax1, label='loss')\n",
    "sns.lineplot(x=results.epoch, y=sigmoid_accuracy, ax=ax2, label='accuracy');"
   ]
  },
  {
   "cell_type": "markdown",
   "metadata": {},
   "source": [
    "We have two plots above both relating to the quality of our model.  The left-hand plot is our loss. It uses the probabilities associated with our predictions to judge how well our prediction fits reality. We want it to decrease as far as possible.\n",
    "\n",
    "The accuracy judges how well the predictions are after applying the threshold at the output layer.  We want accuracy to increase."
   ]
  },
  {
   "cell_type": "markdown",
   "metadata": {},
   "source": [
    "If we look at our loss, it is still decreasing. That is a signal that our model is **still learning**. If our model is still learning, we can allow it to get better by turning a few dials.\n",
    "\n",
    "Let's:\n",
    "- increase the number of epochs;\n",
    "- change sigmoid activation in the hidden layers to ReLU; and\n",
    "- decrease the batch size."
   ]
  },
  {
   "cell_type": "code",
   "execution_count": 11,
   "metadata": {},
   "outputs": [
    {
     "data": {
      "text/plain": [
       "1149"
      ]
     },
     "execution_count": 11,
     "metadata": {},
     "output_type": "execute_result"
    }
   ],
   "source": [
    "X_pure_train.shape[0]"
   ]
  },
  {
   "cell_type": "code",
   "execution_count": 12,
   "metadata": {},
   "outputs": [
    {
     "name": "stdout",
     "output_type": "stream",
     "text": [
      "Epoch 1/100\n",
      "36/36 [==============================] - 0s 874us/step - loss: 0.6890 - accuracy: 0.5466\n",
      "Epoch 2/100\n",
      "36/36 [==============================] - 0s 903us/step - loss: 0.6840 - accuracy: 0.6075\n",
      "Epoch 3/100\n",
      "36/36 [==============================] - 0s 914us/step - loss: 0.6753 - accuracy: 0.6057\n",
      "Epoch 4/100\n",
      "36/36 [==============================] - 0s 936us/step - loss: 0.6661 - accuracy: 0.6057\n",
      "Epoch 5/100\n",
      "36/36 [==============================] - 0s 851us/step - loss: 0.6584 - accuracy: 0.5988\n",
      "Epoch 6/100\n",
      "36/36 [==============================] - 0s 851us/step - loss: 0.6517 - accuracy: 0.6153\n",
      "Epoch 7/100\n",
      "36/36 [==============================] - 0s 857us/step - loss: 0.6449 - accuracy: 0.6319\n",
      "Epoch 8/100\n",
      "36/36 [==============================] - 0s 894us/step - loss: 0.6375 - accuracy: 0.6362\n",
      "Epoch 9/100\n",
      "36/36 [==============================] - 0s 886us/step - loss: 0.6296 - accuracy: 0.6554\n",
      "Epoch 10/100\n",
      "36/36 [==============================] - 0s 940us/step - loss: 0.6210 - accuracy: 0.6701\n",
      "Epoch 11/100\n",
      "36/36 [==============================] - 0s 830us/step - loss: 0.6118 - accuracy: 0.6884\n",
      "Epoch 12/100\n",
      "36/36 [==============================] - 0s 850us/step - loss: 0.6019 - accuracy: 0.7119\n",
      "Epoch 13/100\n",
      "36/36 [==============================] - 0s 858us/step - loss: 0.5916 - accuracy: 0.7171\n",
      "Epoch 14/100\n",
      "36/36 [==============================] - 0s 895us/step - loss: 0.5805 - accuracy: 0.7493\n",
      "Epoch 15/100\n",
      "36/36 [==============================] - 0s 897us/step - loss: 0.5689 - accuracy: 0.7624\n",
      "Epoch 16/100\n",
      "36/36 [==============================] - 0s 759us/step - loss: 0.5567 - accuracy: 0.7676\n",
      "Epoch 17/100\n",
      "36/36 [==============================] - 0s 897us/step - loss: 0.5441 - accuracy: 0.7868\n",
      "Epoch 18/100\n",
      "36/36 [==============================] - 0s 1ms/step - loss: 0.5306 - accuracy: 0.7937\n",
      "Epoch 19/100\n",
      "36/36 [==============================] - 0s 1ms/step - loss: 0.5165 - accuracy: 0.8033\n",
      "Epoch 20/100\n",
      "36/36 [==============================] - 0s 768us/step - loss: 0.5024 - accuracy: 0.8225\n",
      "Epoch 21/100\n",
      "36/36 [==============================] - 0s 961us/step - loss: 0.4880 - accuracy: 0.8277\n",
      "Epoch 22/100\n",
      "36/36 [==============================] - 0s 830us/step - loss: 0.4743 - accuracy: 0.8372\n",
      "Epoch 23/100\n",
      "36/36 [==============================] - 0s 905us/step - loss: 0.4610 - accuracy: 0.8442\n",
      "Epoch 24/100\n",
      "36/36 [==============================] - 0s 868us/step - loss: 0.4476 - accuracy: 0.8460\n",
      "Epoch 25/100\n",
      "36/36 [==============================] - 0s 886us/step - loss: 0.4347 - accuracy: 0.8503\n",
      "Epoch 26/100\n",
      "36/36 [==============================] - 0s 869us/step - loss: 0.4220 - accuracy: 0.8607\n",
      "Epoch 27/100\n",
      "36/36 [==============================] - 0s 935us/step - loss: 0.4097 - accuracy: 0.8607\n",
      "Epoch 28/100\n",
      "36/36 [==============================] - 0s 870us/step - loss: 0.3969 - accuracy: 0.8712\n",
      "Epoch 29/100\n",
      "36/36 [==============================] - 0s 911us/step - loss: 0.3853 - accuracy: 0.8695\n",
      "Epoch 30/100\n",
      "36/36 [==============================] - 0s 828us/step - loss: 0.3740 - accuracy: 0.8790\n",
      "Epoch 31/100\n",
      "36/36 [==============================] - 0s 850us/step - loss: 0.3630 - accuracy: 0.8790\n",
      "Epoch 32/100\n",
      "36/36 [==============================] - 0s 931us/step - loss: 0.3524 - accuracy: 0.8799\n",
      "Epoch 33/100\n",
      "36/36 [==============================] - 0s 882us/step - loss: 0.3427 - accuracy: 0.8860\n",
      "Epoch 34/100\n",
      "36/36 [==============================] - 0s 1ms/step - loss: 0.3330 - accuracy: 0.8869\n",
      "Epoch 35/100\n",
      "36/36 [==============================] - 0s 907us/step - loss: 0.3236 - accuracy: 0.8921\n",
      "Epoch 36/100\n",
      "36/36 [==============================] - 0s 972us/step - loss: 0.3145 - accuracy: 0.8842\n",
      "Epoch 37/100\n",
      "36/36 [==============================] - 0s 1ms/step - loss: 0.3065 - accuracy: 0.8877\n",
      "Epoch 38/100\n",
      "36/36 [==============================] - 0s 1ms/step - loss: 0.2980 - accuracy: 0.8912\n",
      "Epoch 39/100\n",
      "36/36 [==============================] - 0s 935us/step - loss: 0.2912 - accuracy: 0.8938\n",
      "Epoch 40/100\n",
      "36/36 [==============================] - 0s 1ms/step - loss: 0.2840 - accuracy: 0.8903\n",
      "Epoch 41/100\n",
      "36/36 [==============================] - 0s 932us/step - loss: 0.2772 - accuracy: 0.8956\n",
      "Epoch 42/100\n",
      "36/36 [==============================] - 0s 904us/step - loss: 0.2711 - accuracy: 0.8947\n",
      "Epoch 43/100\n",
      "36/36 [==============================] - 0s 960us/step - loss: 0.2652 - accuracy: 0.9017\n",
      "Epoch 44/100\n",
      "36/36 [==============================] - 0s 837us/step - loss: 0.2594 - accuracy: 0.8999\n",
      "Epoch 45/100\n",
      "36/36 [==============================] - 0s 1ms/step - loss: 0.2535 - accuracy: 0.8999\n",
      "Epoch 46/100\n",
      "36/36 [==============================] - 0s 971us/step - loss: 0.2495 - accuracy: 0.9034\n",
      "Epoch 47/100\n",
      "36/36 [==============================] - 0s 886us/step - loss: 0.2434 - accuracy: 0.9077\n",
      "Epoch 48/100\n",
      "36/36 [==============================] - 0s 886us/step - loss: 0.2391 - accuracy: 0.9051\n",
      "Epoch 49/100\n",
      "36/36 [==============================] - 0s 897us/step - loss: 0.2345 - accuracy: 0.9086\n",
      "Epoch 50/100\n",
      "36/36 [==============================] - 0s 1ms/step - loss: 0.2301 - accuracy: 0.9060\n",
      "Epoch 51/100\n",
      "36/36 [==============================] - 0s 966us/step - loss: 0.2260 - accuracy: 0.9112\n",
      "Epoch 52/100\n",
      "36/36 [==============================] - 0s 1ms/step - loss: 0.2222 - accuracy: 0.9095\n",
      "Epoch 53/100\n",
      "36/36 [==============================] - 0s 916us/step - loss: 0.2179 - accuracy: 0.9104\n",
      "Epoch 54/100\n",
      "36/36 [==============================] - 0s 859us/step - loss: 0.2141 - accuracy: 0.9147\n",
      "Epoch 55/100\n",
      "36/36 [==============================] - 0s 850us/step - loss: 0.2110 - accuracy: 0.9112\n",
      "Epoch 56/100\n",
      "36/36 [==============================] - 0s 828us/step - loss: 0.2075 - accuracy: 0.9138\n",
      "Epoch 57/100\n",
      "36/36 [==============================] - 0s 862us/step - loss: 0.2044 - accuracy: 0.9173\n",
      "Epoch 58/100\n",
      "36/36 [==============================] - 0s 792us/step - loss: 0.2012 - accuracy: 0.9182\n",
      "Epoch 59/100\n",
      "36/36 [==============================] - 0s 847us/step - loss: 0.1986 - accuracy: 0.9191\n",
      "Epoch 60/100\n",
      "36/36 [==============================] - 0s 906us/step - loss: 0.1954 - accuracy: 0.9191\n",
      "Epoch 61/100\n",
      "36/36 [==============================] - 0s 922us/step - loss: 0.1929 - accuracy: 0.9243\n",
      "Epoch 62/100\n",
      "36/36 [==============================] - 0s 869us/step - loss: 0.1897 - accuracy: 0.9234\n",
      "Epoch 63/100\n",
      "36/36 [==============================] - 0s 860us/step - loss: 0.1870 - accuracy: 0.9225\n",
      "Epoch 64/100\n",
      "36/36 [==============================] - 0s 821us/step - loss: 0.1847 - accuracy: 0.9225\n",
      "Epoch 65/100\n",
      "36/36 [==============================] - 0s 821us/step - loss: 0.1814 - accuracy: 0.9278\n",
      "Epoch 66/100\n",
      "36/36 [==============================] - 0s 1ms/step - loss: 0.1796 - accuracy: 0.9278\n",
      "Epoch 67/100\n",
      "36/36 [==============================] - 0s 837us/step - loss: 0.1774 - accuracy: 0.9260\n",
      "Epoch 68/100\n",
      "36/36 [==============================] - 0s 803us/step - loss: 0.1748 - accuracy: 0.9269\n",
      "Epoch 69/100\n",
      "36/36 [==============================] - 0s 852us/step - loss: 0.1727 - accuracy: 0.9286\n",
      "Epoch 70/100\n",
      "36/36 [==============================] - 0s 873us/step - loss: 0.1698 - accuracy: 0.9304\n",
      "Epoch 71/100\n",
      "36/36 [==============================] - 0s 976us/step - loss: 0.1680 - accuracy: 0.9286\n",
      "Epoch 72/100\n",
      "36/36 [==============================] - 0s 873us/step - loss: 0.1663 - accuracy: 0.9304\n",
      "Epoch 73/100\n",
      "36/36 [==============================] - 0s 906us/step - loss: 0.1638 - accuracy: 0.9304\n",
      "Epoch 74/100\n",
      "36/36 [==============================] - 0s 772us/step - loss: 0.1624 - accuracy: 0.9286\n",
      "Epoch 75/100\n",
      "36/36 [==============================] - 0s 894us/step - loss: 0.1598 - accuracy: 0.9304\n",
      "Epoch 76/100\n",
      "36/36 [==============================] - 0s 789us/step - loss: 0.1579 - accuracy: 0.9312\n",
      "Epoch 77/100\n",
      "36/36 [==============================] - 0s 905us/step - loss: 0.1563 - accuracy: 0.9312\n",
      "Epoch 78/100\n",
      "36/36 [==============================] - 0s 1ms/step - loss: 0.1538 - accuracy: 0.9321\n",
      "Epoch 79/100\n",
      "36/36 [==============================] - 0s 1ms/step - loss: 0.1518 - accuracy: 0.9312\n",
      "Epoch 80/100\n",
      "36/36 [==============================] - 0s 996us/step - loss: 0.1504 - accuracy: 0.9356\n",
      "Epoch 81/100\n"
     ]
    },
    {
     "name": "stdout",
     "output_type": "stream",
     "text": [
      "36/36 [==============================] - 0s 838us/step - loss: 0.1489 - accuracy: 0.9339\n",
      "Epoch 82/100\n",
      "36/36 [==============================] - 0s 889us/step - loss: 0.1471 - accuracy: 0.9339\n",
      "Epoch 83/100\n",
      "36/36 [==============================] - 0s 795us/step - loss: 0.1443 - accuracy: 0.9356\n",
      "Epoch 84/100\n",
      "36/36 [==============================] - 0s 843us/step - loss: 0.1435 - accuracy: 0.9365\n",
      "Epoch 85/100\n",
      "36/36 [==============================] - 0s 808us/step - loss: 0.1424 - accuracy: 0.9382\n",
      "Epoch 86/100\n",
      "36/36 [==============================] - 0s 934us/step - loss: 0.1402 - accuracy: 0.9417\n",
      "Epoch 87/100\n",
      "36/36 [==============================] - 0s 823us/step - loss: 0.1389 - accuracy: 0.9417\n",
      "Epoch 88/100\n",
      "36/36 [==============================] - 0s 952us/step - loss: 0.1375 - accuracy: 0.9399\n",
      "Epoch 89/100\n",
      "36/36 [==============================] - 0s 830us/step - loss: 0.1355 - accuracy: 0.9426\n",
      "Epoch 90/100\n",
      "36/36 [==============================] - 0s 929us/step - loss: 0.1349 - accuracy: 0.9443\n",
      "Epoch 91/100\n",
      "36/36 [==============================] - 0s 802us/step - loss: 0.1324 - accuracy: 0.9460\n",
      "Epoch 92/100\n",
      "36/36 [==============================] - 0s 694us/step - loss: 0.1306 - accuracy: 0.9452\n",
      "Epoch 93/100\n",
      "36/36 [==============================] - 0s 853us/step - loss: 0.1292 - accuracy: 0.9513\n",
      "Epoch 94/100\n",
      "36/36 [==============================] - 0s 832us/step - loss: 0.1274 - accuracy: 0.9504\n",
      "Epoch 95/100\n",
      "36/36 [==============================] - 0s 957us/step - loss: 0.1255 - accuracy: 0.9478\n",
      "Epoch 96/100\n",
      "36/36 [==============================] - 0s 872us/step - loss: 0.1250 - accuracy: 0.9504\n",
      "Epoch 97/100\n",
      "36/36 [==============================] - 0s 784us/step - loss: 0.1225 - accuracy: 0.9539\n",
      "Epoch 98/100\n",
      "36/36 [==============================] - 0s 784us/step - loss: 0.1220 - accuracy: 0.9530\n",
      "Epoch 99/100\n",
      "36/36 [==============================] - 0s 863us/step - loss: 0.1209 - accuracy: 0.9530\n",
      "Epoch 100/100\n",
      "36/36 [==============================] - 0s 805us/step - loss: 0.1199 - accuracy: 0.9530\n"
     ]
    }
   ],
   "source": [
    "model = Sequential()\n",
    "model.add(Dense(12, activation='relu', input_dim=64))\n",
    "model.add(Dense(8, activation='relu'))\n",
    "model.add(Dense(1, activation='sigmoid'))\n",
    "\n",
    "model.compile(optimizer='SGD',\n",
    "              loss='binary_crossentropy',\n",
    "              metrics=['accuracy'])\n",
    "\n",
    "# Assign the variable history to store the results,\n",
    "# and set verbose=1 so we can see the output.\n",
    "results = model.fit(X_pure_train, y_pure_train, epochs=100, batch_size=None, verbose=1)"
   ]
  },
  {
   "cell_type": "code",
   "execution_count": 13,
   "metadata": {},
   "outputs": [
    {
     "data": {
      "image/png": "[encoded data removed]",
      "text/plain": [
       "<Figure size 720x360 with 2 Axes>"
      ]
     },
     "metadata": {
      "needs_background": "light"
     },
     "output_type": "display_data"
    }
   ],
   "source": [
    "sigmoid_loss = results.history['loss']\n",
    "sigmoid_accuracy = results.history['accuracy']\n",
    "\n",
    "fig, (ax1, ax2) = plt.subplots(1, 2, figsize=(10, 5))\n",
    "sns.lineplot(x=results.epoch, y=sigmoid_loss, ax=ax1, label='loss')\n",
    "sns.lineplot(x=results.epoch, y=sigmoid_accuracy, ax=ax2, label='accuracy');"
   ]
  },
  {
   "cell_type": "markdown",
   "metadata": {},
   "source": [
    "If we increase the learning rate to a very high number, we see that our model overshoots the minimum, and starts bouncing all around."
   ]
  },
  {
   "cell_type": "code",
   "execution_count": 14,
   "metadata": {},
   "outputs": [
    {
     "name": "stdout",
     "output_type": "stream",
     "text": [
      "Epoch 1/30\n",
      "115/115 [==============================] - 0s 819us/step - loss: 2.7159 - accuracy: 0.4917\n",
      "Epoch 2/30\n",
      "115/115 [==============================] - 0s 756us/step - loss: 0.9667 - accuracy: 0.4978\n",
      "Epoch 3/30\n",
      "115/115 [==============================] - 0s 907us/step - loss: 1.0972 - accuracy: 0.4691\n",
      "Epoch 4/30\n",
      "115/115 [==============================] - 0s 799us/step - loss: 0.9676 - accuracy: 0.4996\n",
      "Epoch 5/30\n",
      "115/115 [==============================] - 0s 760us/step - loss: 0.9642 - accuracy: 0.5013\n",
      "Epoch 6/30\n",
      "115/115 [==============================] - 0s 745us/step - loss: 0.9526 - accuracy: 0.5152\n",
      "Epoch 7/30\n",
      "115/115 [==============================] - 0s 877us/step - loss: 1.0054 - accuracy: 0.5091\n",
      "Epoch 8/30\n",
      "115/115 [==============================] - 0s 793us/step - loss: 0.9692 - accuracy: 0.4978\n",
      "Epoch 9/30\n",
      "115/115 [==============================] - 0s 813us/step - loss: 1.0257 - accuracy: 0.4970\n",
      "Epoch 10/30\n",
      "115/115 [==============================] - 0s 785us/step - loss: 0.9664 - accuracy: 0.4970\n",
      "Epoch 11/30\n",
      "115/115 [==============================] - 0s 767us/step - loss: 0.9530 - accuracy: 0.5048\n",
      "Epoch 12/30\n",
      "115/115 [==============================] - 0s 735us/step - loss: 1.0498 - accuracy: 0.4839\n",
      "Epoch 13/30\n",
      "115/115 [==============================] - 0s 818us/step - loss: 1.0223 - accuracy: 0.4856\n",
      "Epoch 14/30\n",
      "115/115 [==============================] - 0s 738us/step - loss: 1.0083 - accuracy: 0.4883\n",
      "Epoch 15/30\n",
      "115/115 [==============================] - 0s 782us/step - loss: 1.0584 - accuracy: 0.4935\n",
      "Epoch 16/30\n",
      "115/115 [==============================] - 0s 740us/step - loss: 0.9952 - accuracy: 0.5144\n",
      "Epoch 17/30\n",
      "115/115 [==============================] - 0s 744us/step - loss: 1.0286 - accuracy: 0.4917\n",
      "Epoch 18/30\n",
      "115/115 [==============================] - 0s 901us/step - loss: 0.9977 - accuracy: 0.5205\n",
      "Epoch 19/30\n",
      "115/115 [==============================] - 0s 808us/step - loss: 1.0466 - accuracy: 0.4804\n",
      "Epoch 20/30\n",
      "115/115 [==============================] - 0s 814us/step - loss: 1.0553 - accuracy: 0.4943\n",
      "Epoch 21/30\n",
      "115/115 [==============================] - 0s 756us/step - loss: 0.9285 - accuracy: 0.5178\n",
      "Epoch 22/30\n",
      "115/115 [==============================] - 0s 826us/step - loss: 0.9117 - accuracy: 0.5161\n",
      "Epoch 23/30\n",
      "115/115 [==============================] - 0s 792us/step - loss: 0.9736 - accuracy: 0.4978\n",
      "Epoch 24/30\n",
      "115/115 [==============================] - 0s 710us/step - loss: 1.0368 - accuracy: 0.4978\n",
      "Epoch 25/30\n",
      "115/115 [==============================] - 0s 770us/step - loss: 0.9947 - accuracy: 0.4935\n",
      "Epoch 26/30\n",
      "115/115 [==============================] - 0s 791us/step - loss: 0.9871 - accuracy: 0.5144\n",
      "Epoch 27/30\n",
      "115/115 [==============================] - 0s 755us/step - loss: 0.9840 - accuracy: 0.5065\n",
      "Epoch 28/30\n",
      "115/115 [==============================] - 0s 748us/step - loss: 1.0596 - accuracy: 0.4943\n",
      "Epoch 29/30\n",
      "115/115 [==============================] - 0s 828us/step - loss: 1.0501 - accuracy: 0.4761\n",
      "Epoch 30/30\n",
      "115/115 [==============================] - 0s 733us/step - loss: 0.9887 - accuracy: 0.5030\n"
     ]
    },
    {
     "data": {
      "image/png": "[encoded data removed]",
      "text/plain": [
       "<Figure size 720x360 with 2 Axes>"
      ]
     },
     "metadata": {
      "needs_background": "light"
     },
     "output_type": "display_data"
    }
   ],
   "source": [
    "model = Sequential()\n",
    "\n",
    "sgd = SGD(learning_rate=9)\n",
    "model.add(Dense(12, activation='relu', input_dim=64))\n",
    "model.add(Dense(8, activation='relu'))\n",
    "model.add(Dense(1, activation='sigmoid'))\n",
    "\n",
    "model.compile(optimizer=sgd,\n",
    "              loss='binary_crossentropy',\n",
    "              metrics=['accuracy'])\n",
    "\n",
    "results = model.fit(X_pure_train, y_pure_train,\n",
    "                    epochs=30, batch_size=10, verbose=1)\n",
    "\n",
    "relu_loss = results.history['loss']\n",
    "relu_accuracy = results.history['accuracy']\n",
    "\n",
    "fig, (ax1, ax2) = plt.subplots(1, 2, figsize=(10, 5))\n",
    "sns.lineplot(x=results.epoch, y=relu_loss, ax=ax1, label='loss')\n",
    "sns.lineplot(x=results.epoch, y=relu_accuracy, ax=ax2, label='accuracy');"
   ]
  },
  {
   "cell_type": "markdown",
   "metadata": {},
   "source": [
    "### Exercise\n",
    "\n",
    "We have been looking only at our training set. Let's add in our validation set to the picture. Check the docstring for the `.fit()` method and add in our validation data."
   ]
  },
  {
   "cell_type": "code",
   "execution_count": 15,
   "metadata": {},
   "outputs": [
    {
     "ename": "KeyError",
     "evalue": "'val_loss'",
     "output_type": "error",
     "traceback": [
      "\u001b[0;31m---------------------------------------------------------------------------\u001b[0m",
      "\u001b[0;31mKeyError\u001b[0m                                  Traceback (most recent call last)",
      "\u001b[0;32m<ipython-input-15-d8f3497bfe7f>\u001b[0m in \u001b[0;36m<module>\u001b[0;34m\u001b[0m\n\u001b[1;32m     14\u001b[0m \u001b[0mtrain_loss\u001b[0m \u001b[0;34m=\u001b[0m \u001b[0mresults\u001b[0m\u001b[0;34m.\u001b[0m\u001b[0mhistory\u001b[0m\u001b[0;34m[\u001b[0m\u001b[0;34m'loss'\u001b[0m\u001b[0;34m]\u001b[0m\u001b[0;34m\u001b[0m\u001b[0;34m\u001b[0m\u001b[0m\n\u001b[1;32m     15\u001b[0m \u001b[0mtrain_acc\u001b[0m \u001b[0;34m=\u001b[0m \u001b[0mresults\u001b[0m\u001b[0;34m.\u001b[0m\u001b[0mhistory\u001b[0m\u001b[0;34m[\u001b[0m\u001b[0;34m'accuracy'\u001b[0m\u001b[0;34m]\u001b[0m\u001b[0;34m\u001b[0m\u001b[0;34m\u001b[0m\u001b[0m\n\u001b[0;32m---> 16\u001b[0;31m \u001b[0mval_loss\u001b[0m \u001b[0;34m=\u001b[0m \u001b[0mresults\u001b[0m\u001b[0;34m.\u001b[0m\u001b[0mhistory\u001b[0m\u001b[0;34m[\u001b[0m\u001b[0;34m'val_loss'\u001b[0m\u001b[0;34m]\u001b[0m\u001b[0;34m\u001b[0m\u001b[0;34m\u001b[0m\u001b[0m\n\u001b[0m\u001b[1;32m     17\u001b[0m \u001b[0mval_acc\u001b[0m \u001b[0;34m=\u001b[0m \u001b[0mresults\u001b[0m\u001b[0;34m.\u001b[0m\u001b[0mhistory\u001b[0m\u001b[0;34m[\u001b[0m\u001b[0;34m'val_accuracy'\u001b[0m\u001b[0;34m]\u001b[0m\u001b[0;34m\u001b[0m\u001b[0;34m\u001b[0m\u001b[0m\n\u001b[1;32m     18\u001b[0m \u001b[0;34m\u001b[0m\u001b[0m\n",
      "\u001b[0;31mKeyError\u001b[0m: 'val_loss'"
     ]
    }
   ],
   "source": [
    "model = Sequential()\n",
    "model.add(Dense(12, activation='relu', input_dim=64))\n",
    "model.add(Dense(8, activation='relu'))\n",
    "model.add(Dense(4, activation='relu'))\n",
    "model.add(Dense(1, activation='sigmoid'))\n",
    "\n",
    "model.compile(optimizer='adam',\n",
    "              loss='binary_crossentropy',\n",
    "              metrics=['accuracy'])\n",
    "\n",
    "\n",
    "## YOUR CODE HERE\n",
    "\n",
    "train_loss = results.history['loss']\n",
    "train_acc = results.history['accuracy']\n",
    "val_loss = results.history['val_loss']\n",
    "val_acc = results.history['val_accuracy']\n",
    "\n",
    "fig, (ax1, ax2) = plt.subplots(1, 2, figsize=(10, 5))\n",
    "sns.lineplot(x=results.epoch, y=train_loss, ax=ax1, label='train_loss')\n",
    "sns.lineplot(x=results.epoch, y=train_acc, ax=ax2, label='train_accuracy')\n",
    "\n",
    "sns.lineplot(x=results.epoch, y=val_loss, ax=ax1, label='val_loss')\n",
    "sns.lineplot(x=results.epoch, y=val_acc, ax=ax2, label='val_accuracy');"
   ]
  },
  {
   "cell_type": "markdown",
   "metadata": {},
   "source": [
    "<details>\n",
    "    <summary>One answer here</summary>\n",
    "<code>model = Sequential()\n",
    "model.add(Dense(12, activation='relu', input_dim=64))\n",
    "model.add(Dense(8, activation='relu'))\n",
    "model.add(Dense(4, activation='relu'))\n",
    "model.add(Dense(1, activation='sigmoid'))\n",
    "model.compile(optimizer='adam',\n",
    "              loss='binary_crossentropy',\n",
    "              metrics=['accuracy'])\n",
    "results = model.fit(X_pure_train, y_pure_train,\n",
    "                   validation_data=(X_val, y_val),\n",
    "                   epochs=30, batch_size=10)\n",
    "train_loss = results.history['loss']\n",
    "train_acc = results.history['accuracy']\n",
    "val_loss = results.history['val_loss']\n",
    "val_acc = results.history['val_accuracy']\n",
    "fig, (ax1, ax2) = plt.subplots(1, 2, figsize=(10, 5))\n",
    "sns.lineplot(x=results.epoch, y=train_loss, ax=ax1, label='train_loss')\n",
    "sns.lineplot(x=results.epoch, y=train_acc, ax=ax2, label='train_accuracy')\n",
    "sns.lineplot(x=results.epoch, y=val_loss, ax=ax1, label='val_loss')\n",
    "sns.lineplot(x=results.epoch, y=val_acc, ax=ax2, label='val_accuracy');</code>\n",
    "</details>"
   ]
  },
  {
   "cell_type": "code",
   "execution_count": null,
   "metadata": {},
   "outputs": [],
   "source": [
    "results.history['val_accuracy'][-1]"
   ]
  },
  {
   "cell_type": "markdown",
   "metadata": {},
   "source": [
    "## Connecting with `sklearn`\n",
    "\n",
    "The `keras.wrappers` submodule means that we can turn `keras` models into estimators that `sklearn` tools will recognize."
   ]
  },
  {
   "cell_type": "code",
   "execution_count": 16,
   "metadata": {},
   "outputs": [
    {
     "ename": "TypeError",
     "evalue": "If no scoring is specified, the estimator passed should have a 'score' method. The estimator <keras.src.engine.sequential.Sequential object at 0x7fea71fa7d00> does not.",
     "output_type": "error",
     "traceback": [
      "\u001b[0;31m---------------------------------------------------------------------------\u001b[0m",
      "\u001b[0;31mTypeError\u001b[0m                                 Traceback (most recent call last)",
      "\u001b[0;32m<ipython-input-16-440685741601>\u001b[0m in \u001b[0;36m<module>\u001b[0;34m\u001b[0m\n\u001b[1;32m      1\u001b[0m \u001b[0;31m# This will throw an error.\u001b[0m\u001b[0;34m\u001b[0m\u001b[0;34m\u001b[0m\u001b[0;34m\u001b[0m\u001b[0m\n\u001b[1;32m      2\u001b[0m \u001b[0;34m\u001b[0m\u001b[0m\n\u001b[0;32m----> 3\u001b[0;31m \u001b[0mcross_val_score\u001b[0m\u001b[0;34m(\u001b[0m\u001b[0mmodel\u001b[0m\u001b[0;34m,\u001b[0m \u001b[0mX_pure_train\u001b[0m\u001b[0;34m,\u001b[0m \u001b[0my_pure_train\u001b[0m\u001b[0;34m)\u001b[0m\u001b[0;34m\u001b[0m\u001b[0;34m\u001b[0m\u001b[0m\n\u001b[0m",
      "\u001b[0;32m~/opt/anaconda3/envs/learn-env/lib/python3.8/site-packages/sklearn/model_selection/_validation.py\u001b[0m in \u001b[0;36mcross_val_score\u001b[0;34m(estimator, X, y, groups, scoring, cv, n_jobs, verbose, fit_params, pre_dispatch, error_score)\u001b[0m\n\u001b[1;32m    558\u001b[0m     \"\"\"\n\u001b[1;32m    559\u001b[0m     \u001b[0;31m# To ensure multimetric format is not supported\u001b[0m\u001b[0;34m\u001b[0m\u001b[0;34m\u001b[0m\u001b[0;34m\u001b[0m\u001b[0m\n\u001b[0;32m--> 560\u001b[0;31m     \u001b[0mscorer\u001b[0m \u001b[0;34m=\u001b[0m \u001b[0mcheck_scoring\u001b[0m\u001b[0;34m(\u001b[0m\u001b[0mestimator\u001b[0m\u001b[0;34m,\u001b[0m \u001b[0mscoring\u001b[0m\u001b[0;34m=\u001b[0m\u001b[0mscoring\u001b[0m\u001b[0;34m)\u001b[0m\u001b[0;34m\u001b[0m\u001b[0;34m\u001b[0m\u001b[0m\n\u001b[0m\u001b[1;32m    561\u001b[0m \u001b[0;34m\u001b[0m\u001b[0m\n\u001b[1;32m    562\u001b[0m     cv_results = cross_validate(\n",
      "\u001b[0;32m~/opt/anaconda3/envs/learn-env/lib/python3.8/site-packages/sklearn/utils/_param_validation.py\u001b[0m in \u001b[0;36mwrapper\u001b[0;34m(*args, **kwargs)\u001b[0m\n\u001b[1;32m    212\u001b[0m                     )\n\u001b[1;32m    213\u001b[0m                 ):\n\u001b[0;32m--> 214\u001b[0;31m                     \u001b[0;32mreturn\u001b[0m \u001b[0mfunc\u001b[0m\u001b[0;34m(\u001b[0m\u001b[0;34m*\u001b[0m\u001b[0margs\u001b[0m\u001b[0;34m,\u001b[0m \u001b[0;34m**\u001b[0m\u001b[0mkwargs\u001b[0m\u001b[0;34m)\u001b[0m\u001b[0;34m\u001b[0m\u001b[0;34m\u001b[0m\u001b[0m\n\u001b[0m\u001b[1;32m    215\u001b[0m             \u001b[0;32mexcept\u001b[0m \u001b[0mInvalidParameterError\u001b[0m \u001b[0;32mas\u001b[0m \u001b[0me\u001b[0m\u001b[0;34m:\u001b[0m\u001b[0;34m\u001b[0m\u001b[0;34m\u001b[0m\u001b[0m\n\u001b[1;32m    216\u001b[0m                 \u001b[0;31m# When the function is just a wrapper around an estimator, we allow\u001b[0m\u001b[0;34m\u001b[0m\u001b[0;34m\u001b[0m\u001b[0;34m\u001b[0m\u001b[0m\n",
      "\u001b[0;32m~/opt/anaconda3/envs/learn-env/lib/python3.8/site-packages/sklearn/metrics/_scorer.py\u001b[0m in \u001b[0;36mcheck_scoring\u001b[0;34m(estimator, scoring, allow_none)\u001b[0m\n\u001b[1;32m    951\u001b[0m             \u001b[0;32mreturn\u001b[0m \u001b[0;32mNone\u001b[0m\u001b[0;34m\u001b[0m\u001b[0;34m\u001b[0m\u001b[0m\n\u001b[1;32m    952\u001b[0m         \u001b[0;32melse\u001b[0m\u001b[0;34m:\u001b[0m\u001b[0;34m\u001b[0m\u001b[0;34m\u001b[0m\u001b[0m\n\u001b[0;32m--> 953\u001b[0;31m             raise TypeError(\n\u001b[0m\u001b[1;32m    954\u001b[0m                 \u001b[0;34m\"If no scoring is specified, the estimator passed should \"\u001b[0m\u001b[0;34m\u001b[0m\u001b[0;34m\u001b[0m\u001b[0m\n\u001b[1;32m    955\u001b[0m                 \u001b[0;34m\"have a 'score' method. The estimator %r does not.\"\u001b[0m \u001b[0;34m%\u001b[0m \u001b[0mestimator\u001b[0m\u001b[0;34m\u001b[0m\u001b[0;34m\u001b[0m\u001b[0m\n",
      "\u001b[0;31mTypeError\u001b[0m: If no scoring is specified, the estimator passed should have a 'score' method. The estimator <keras.src.engine.sequential.Sequential object at 0x7fea71fa7d00> does not."
     ]
    }
   ],
   "source": [
    "# This will throw an error.\n",
    "\n",
    "cross_val_score(model, X_pure_train, y_pure_train)"
   ]
  },
  {
   "cell_type": "code",
   "execution_count": 17,
   "metadata": {},
   "outputs": [],
   "source": [
    "def build_model():\n",
    "    model = Sequential()\n",
    "    model.add(Dense(12, activation='relu', input_dim=64))\n",
    "    model.add(Dense(8, activation='relu'))\n",
    "    model.add(Dense(4, activation='relu'))\n",
    "    model.add(Dense(1, activation = 'sigmoid'))\n",
    "\n",
    "    model.compile(optimizer='adam',\n",
    "                  loss='binary_crossentropy',\n",
    "                  metrics=['accuracy'])\n",
    "    return model"
   ]
  },
  {
   "cell_type": "code",
   "execution_count": 18,
   "metadata": {},
   "outputs": [],
   "source": [
    "keras_model = KerasClassifier(build_model,\n",
    "                              epochs=50,\n",
    "                              batch_size=32,\n",
    "                              verbose=2)"
   ]
  },
  {
   "cell_type": "code",
   "execution_count": 19,
   "metadata": {},
   "outputs": [
    {
     "data": {
      "text/plain": [
       "scikeras.wrappers.KerasClassifier"
      ]
     },
     "execution_count": 19,
     "metadata": {},
     "output_type": "execute_result"
    }
   ],
   "source": [
    "type(keras_model)"
   ]
  },
  {
   "cell_type": "code",
   "execution_count": 20,
   "metadata": {},
   "outputs": [
    {
     "name": "stdout",
     "output_type": "stream",
     "text": [
      "Epoch 1/50\n",
      "29/29 - 1s - loss: 0.6613 - accuracy: 0.6409 - 539ms/epoch - 19ms/step\n",
      "Epoch 2/50\n",
      "29/29 - 0s - loss: 0.6119 - accuracy: 0.7356 - 28ms/epoch - 969us/step\n",
      "Epoch 3/50\n",
      "29/29 - 0s - loss: 0.5501 - accuracy: 0.7911 - 34ms/epoch - 1ms/step\n",
      "Epoch 4/50\n",
      "29/29 - 0s - loss: 0.4788 - accuracy: 0.8313 - 25ms/epoch - 862us/step\n",
      "Epoch 5/50\n",
      "29/29 - 0s - loss: 0.4125 - accuracy: 0.8509 - 26ms/epoch - 900us/step\n",
      "Epoch 6/50\n",
      "29/29 - 0s - loss: 0.3607 - accuracy: 0.8629 - 23ms/epoch - 788us/step\n",
      "Epoch 7/50\n",
      "29/29 - 0s - loss: 0.3115 - accuracy: 0.8749 - 25ms/epoch - 879us/step\n",
      "Epoch 8/50\n",
      "29/29 - 0s - loss: 0.2745 - accuracy: 0.8901 - 27ms/epoch - 933us/step\n",
      "Epoch 9/50\n",
      "29/29 - 0s - loss: 0.2507 - accuracy: 0.9032 - 26ms/epoch - 894us/step\n",
      "Epoch 10/50\n",
      "29/29 - 0s - loss: 0.2315 - accuracy: 0.9097 - 29ms/epoch - 986us/step\n",
      "Epoch 11/50\n",
      "29/29 - 0s - loss: 0.2112 - accuracy: 0.9173 - 23ms/epoch - 800us/step\n",
      "Epoch 12/50\n",
      "29/29 - 0s - loss: 0.1939 - accuracy: 0.9227 - 28ms/epoch - 964us/step\n",
      "Epoch 13/50\n",
      "29/29 - 0s - loss: 0.1814 - accuracy: 0.9249 - 24ms/epoch - 835us/step\n",
      "Epoch 14/50\n",
      "29/29 - 0s - loss: 0.1708 - accuracy: 0.9271 - 37ms/epoch - 1ms/step\n",
      "Epoch 15/50\n",
      "29/29 - 0s - loss: 0.1581 - accuracy: 0.9380 - 23ms/epoch - 786us/step\n",
      "Epoch 16/50\n",
      "29/29 - 0s - loss: 0.1527 - accuracy: 0.9380 - 23ms/epoch - 810us/step\n",
      "Epoch 17/50\n",
      "29/29 - 0s - loss: 0.1441 - accuracy: 0.9423 - 24ms/epoch - 822us/step\n",
      "Epoch 18/50\n",
      "29/29 - 0s - loss: 0.1408 - accuracy: 0.9380 - 24ms/epoch - 813us/step\n",
      "Epoch 19/50\n",
      "29/29 - 0s - loss: 0.1298 - accuracy: 0.9543 - 23ms/epoch - 788us/step\n",
      "Epoch 20/50\n",
      "29/29 - 0s - loss: 0.1209 - accuracy: 0.9499 - 27ms/epoch - 918us/step\n",
      "Epoch 21/50\n",
      "29/29 - 0s - loss: 0.1154 - accuracy: 0.9543 - 24ms/epoch - 840us/step\n",
      "Epoch 22/50\n",
      "29/29 - 0s - loss: 0.1071 - accuracy: 0.9554 - 27ms/epoch - 915us/step\n",
      "Epoch 23/50\n",
      "29/29 - 0s - loss: 0.1039 - accuracy: 0.9565 - 20ms/epoch - 706us/step\n",
      "Epoch 24/50\n",
      "29/29 - 0s - loss: 0.1040 - accuracy: 0.9597 - 25ms/epoch - 857us/step\n",
      "Epoch 25/50\n",
      "29/29 - 0s - loss: 0.0934 - accuracy: 0.9674 - 24ms/epoch - 834us/step\n",
      "Epoch 26/50\n",
      "29/29 - 0s - loss: 0.0899 - accuracy: 0.9674 - 21ms/epoch - 738us/step\n",
      "Epoch 27/50\n",
      "29/29 - 0s - loss: 0.0876 - accuracy: 0.9630 - 28ms/epoch - 980us/step\n",
      "Epoch 28/50\n",
      "29/29 - 0s - loss: 0.0834 - accuracy: 0.9652 - 22ms/epoch - 762us/step\n",
      "Epoch 29/50\n",
      "29/29 - 0s - loss: 0.0782 - accuracy: 0.9695 - 26ms/epoch - 906us/step\n",
      "Epoch 30/50\n",
      "29/29 - 0s - loss: 0.0748 - accuracy: 0.9717 - 25ms/epoch - 863us/step\n",
      "Epoch 31/50\n",
      "29/29 - 0s - loss: 0.0741 - accuracy: 0.9717 - 23ms/epoch - 801us/step\n",
      "Epoch 32/50\n",
      "29/29 - 0s - loss: 0.0681 - accuracy: 0.9782 - 24ms/epoch - 841us/step\n",
      "Epoch 33/50\n",
      "29/29 - 0s - loss: 0.0637 - accuracy: 0.9771 - 24ms/epoch - 812us/step\n",
      "Epoch 34/50\n",
      "29/29 - 0s - loss: 0.0598 - accuracy: 0.9782 - 25ms/epoch - 856us/step\n",
      "Epoch 35/50\n",
      "29/29 - 0s - loss: 0.0595 - accuracy: 0.9826 - 25ms/epoch - 874us/step\n",
      "Epoch 36/50\n",
      "29/29 - 0s - loss: 0.0552 - accuracy: 0.9826 - 23ms/epoch - 807us/step\n",
      "Epoch 37/50\n",
      "29/29 - 0s - loss: 0.0539 - accuracy: 0.9826 - 29ms/epoch - 996us/step\n",
      "Epoch 38/50\n",
      "29/29 - 0s - loss: 0.0510 - accuracy: 0.9859 - 27ms/epoch - 927us/step\n",
      "Epoch 39/50\n",
      "29/29 - 0s - loss: 0.0492 - accuracy: 0.9880 - 23ms/epoch - 790us/step\n",
      "Epoch 40/50\n",
      "29/29 - 0s - loss: 0.0464 - accuracy: 0.9848 - 21ms/epoch - 740us/step\n",
      "Epoch 41/50\n",
      "29/29 - 0s - loss: 0.0464 - accuracy: 0.9891 - 28ms/epoch - 962us/step\n",
      "Epoch 42/50\n",
      "29/29 - 0s - loss: 0.0425 - accuracy: 0.9891 - 21ms/epoch - 715us/step\n",
      "Epoch 43/50\n",
      "29/29 - 0s - loss: 0.0427 - accuracy: 0.9880 - 28ms/epoch - 953us/step\n",
      "Epoch 44/50\n",
      "29/29 - 0s - loss: 0.0407 - accuracy: 0.9902 - 23ms/epoch - 788us/step\n",
      "Epoch 45/50\n",
      "29/29 - 0s - loss: 0.0370 - accuracy: 0.9924 - 25ms/epoch - 853us/step\n",
      "Epoch 46/50\n",
      "29/29 - 0s - loss: 0.0367 - accuracy: 0.9935 - 28ms/epoch - 948us/step\n",
      "Epoch 47/50\n",
      "29/29 - 0s - loss: 0.0348 - accuracy: 0.9935 - 21ms/epoch - 718us/step\n",
      "Epoch 48/50\n",
      "29/29 - 0s - loss: 0.0337 - accuracy: 0.9913 - 26ms/epoch - 881us/step\n",
      "Epoch 49/50\n",
      "29/29 - 0s - loss: 0.0311 - accuracy: 0.9902 - 26ms/epoch - 896us/step\n",
      "Epoch 50/50\n",
      "29/29 - 0s - loss: 0.0380 - accuracy: 0.9848 - 26ms/epoch - 910us/step\n",
      "8/8 - 0s - 70ms/epoch - 9ms/step\n",
      "Epoch 1/50\n",
      "29/29 - 1s - loss: 0.6521 - accuracy: 0.6083 - 610ms/epoch - 21ms/step\n",
      "Epoch 2/50\n",
      "29/29 - 0s - loss: 0.5854 - accuracy: 0.6746 - 33ms/epoch - 1ms/step\n",
      "Epoch 3/50\n",
      "29/29 - 0s - loss: 0.5428 - accuracy: 0.7639 - 31ms/epoch - 1ms/step\n",
      "Epoch 4/50\n",
      "29/29 - 0s - loss: 0.5101 - accuracy: 0.8041 - 30ms/epoch - 1ms/step\n",
      "Epoch 5/50\n",
      "29/29 - 0s - loss: 0.4878 - accuracy: 0.8379 - 23ms/epoch - 790us/step\n",
      "Epoch 6/50\n",
      "29/29 - 0s - loss: 0.4688 - accuracy: 0.8466 - 25ms/epoch - 875us/step\n",
      "Epoch 7/50\n",
      "29/29 - 0s - loss: 0.4505 - accuracy: 0.8803 - 23ms/epoch - 790us/step\n",
      "Epoch 8/50\n",
      "29/29 - 0s - loss: 0.4295 - accuracy: 0.9010 - 23ms/epoch - 800us/step\n",
      "Epoch 9/50\n",
      "29/29 - 0s - loss: 0.4153 - accuracy: 0.9086 - 24ms/epoch - 817us/step\n",
      "Epoch 10/50\n",
      "29/29 - 0s - loss: 0.3975 - accuracy: 0.9075 - 21ms/epoch - 734us/step\n",
      "Epoch 11/50\n",
      "29/29 - 0s - loss: 0.3809 - accuracy: 0.9304 - 29ms/epoch - 1ms/step\n",
      "Epoch 12/50\n",
      "29/29 - 0s - loss: 0.3661 - accuracy: 0.9260 - 27ms/epoch - 935us/step\n",
      "Epoch 13/50\n",
      "29/29 - 0s - loss: 0.3542 - accuracy: 0.9402 - 29ms/epoch - 1ms/step\n",
      "Epoch 14/50\n",
      "29/29 - 0s - loss: 0.3421 - accuracy: 0.9369 - 23ms/epoch - 806us/step\n",
      "Epoch 15/50\n",
      "29/29 - 0s - loss: 0.3319 - accuracy: 0.9423 - 21ms/epoch - 726us/step\n",
      "Epoch 16/50\n",
      "29/29 - 0s - loss: 0.3200 - accuracy: 0.9478 - 25ms/epoch - 862us/step\n",
      "Epoch 17/50\n",
      "29/29 - 0s - loss: 0.3106 - accuracy: 0.9532 - 23ms/epoch - 802us/step\n",
      "Epoch 18/50\n",
      "29/29 - 0s - loss: 0.3016 - accuracy: 0.9565 - 23ms/epoch - 779us/step\n",
      "Epoch 19/50\n",
      "29/29 - 0s - loss: 0.2941 - accuracy: 0.9576 - 24ms/epoch - 815us/step\n",
      "Epoch 20/50\n",
      "29/29 - 0s - loss: 0.2849 - accuracy: 0.9630 - 21ms/epoch - 738us/step\n",
      "Epoch 21/50\n",
      "29/29 - 0s - loss: 0.2767 - accuracy: 0.9641 - 24ms/epoch - 822us/step\n",
      "Epoch 22/50\n",
      "29/29 - 0s - loss: 0.2696 - accuracy: 0.9684 - 23ms/epoch - 803us/step\n",
      "Epoch 23/50\n",
      "29/29 - 0s - loss: 0.2634 - accuracy: 0.9706 - 23ms/epoch - 803us/step\n",
      "Epoch 24/50\n",
      "29/29 - 0s - loss: 0.2572 - accuracy: 0.9695 - 24ms/epoch - 831us/step\n",
      "Epoch 25/50\n",
      "29/29 - 0s - loss: 0.2514 - accuracy: 0.9695 - 22ms/epoch - 745us/step\n",
      "Epoch 26/50\n",
      "29/29 - 0s - loss: 0.2451 - accuracy: 0.9739 - 21ms/epoch - 718us/step\n",
      "Epoch 27/50\n",
      "29/29 - 0s - loss: 0.2407 - accuracy: 0.9706 - 24ms/epoch - 843us/step\n",
      "Epoch 28/50\n",
      "29/29 - 0s - loss: 0.2351 - accuracy: 0.9728 - 22ms/epoch - 753us/step\n",
      "Epoch 29/50\n",
      "29/29 - 0s - loss: 0.2303 - accuracy: 0.9750 - 23ms/epoch - 801us/step\n",
      "Epoch 30/50\n",
      "29/29 - 0s - loss: 0.2273 - accuracy: 0.9728 - 23ms/epoch - 810us/step\n",
      "Epoch 31/50\n",
      "29/29 - 0s - loss: 0.2192 - accuracy: 0.9750 - 22ms/epoch - 762us/step\n",
      "Epoch 32/50\n",
      "29/29 - 0s - loss: 0.2130 - accuracy: 0.9771 - 25ms/epoch - 856us/step\n",
      "Epoch 33/50\n",
      "29/29 - 0s - loss: 0.2093 - accuracy: 0.9782 - 21ms/epoch - 729us/step\n",
      "Epoch 34/50\n",
      "29/29 - 0s - loss: 0.2023 - accuracy: 0.9815 - 23ms/epoch - 810us/step\n",
      "Epoch 35/50\n",
      "29/29 - 0s - loss: 0.1974 - accuracy: 0.9815 - 26ms/epoch - 899us/step\n",
      "Epoch 36/50\n",
      "29/29 - 0s - loss: 0.1935 - accuracy: 0.9848 - 23ms/epoch - 785us/step\n",
      "Epoch 37/50\n",
      "29/29 - 0s - loss: 0.1892 - accuracy: 0.9837 - 37ms/epoch - 1ms/step\n",
      "Epoch 38/50\n",
      "29/29 - 0s - loss: 0.1841 - accuracy: 0.9837 - 26ms/epoch - 883us/step\n",
      "Epoch 39/50\n",
      "29/29 - 0s - loss: 0.1828 - accuracy: 0.9848 - 26ms/epoch - 901us/step\n",
      "Epoch 40/50\n",
      "29/29 - 0s - loss: 0.1767 - accuracy: 0.9880 - 23ms/epoch - 804us/step\n",
      "Epoch 41/50\n",
      "29/29 - 0s - loss: 0.1742 - accuracy: 0.9848 - 21ms/epoch - 708us/step\n",
      "Epoch 42/50\n",
      "29/29 - 0s - loss: 0.1696 - accuracy: 0.9848 - 25ms/epoch - 868us/step\n",
      "Epoch 43/50\n",
      "29/29 - 0s - loss: 0.1657 - accuracy: 0.9869 - 22ms/epoch - 764us/step\n",
      "Epoch 44/50\n",
      "29/29 - 0s - loss: 0.1633 - accuracy: 0.9859 - 23ms/epoch - 804us/step\n",
      "Epoch 45/50\n",
      "29/29 - 0s - loss: 0.1599 - accuracy: 0.9869 - 27ms/epoch - 944us/step\n",
      "Epoch 46/50\n",
      "29/29 - 0s - loss: 0.1551 - accuracy: 0.9869 - 21ms/epoch - 726us/step\n",
      "Epoch 47/50\n",
      "29/29 - 0s - loss: 0.1523 - accuracy: 0.9869 - 25ms/epoch - 855us/step\n",
      "Epoch 48/50\n",
      "29/29 - 0s - loss: 0.1489 - accuracy: 0.9880 - 22ms/epoch - 772us/step\n",
      "Epoch 49/50\n",
      "29/29 - 0s - loss: 0.1458 - accuracy: 0.9880 - 23ms/epoch - 779us/step\n"
     ]
    },
    {
     "name": "stdout",
     "output_type": "stream",
     "text": [
      "Epoch 50/50\n",
      "29/29 - 0s - loss: 0.1426 - accuracy: 0.9891 - 28ms/epoch - 956us/step\n",
      "8/8 - 0s - 46ms/epoch - 6ms/step\n",
      "Epoch 1/50\n",
      "29/29 - 1s - loss: 0.6899 - accuracy: 0.5082 - 536ms/epoch - 18ms/step\n",
      "Epoch 2/50\n",
      "29/29 - 0s - loss: 0.6547 - accuracy: 0.5974 - 28ms/epoch - 973us/step\n",
      "Epoch 3/50\n",
      "29/29 - 0s - loss: 0.6143 - accuracy: 0.6257 - 29ms/epoch - 984us/step\n",
      "Epoch 4/50\n",
      "29/29 - 0s - loss: 0.5636 - accuracy: 0.7345 - 26ms/epoch - 899us/step\n",
      "Epoch 5/50\n",
      "29/29 - 0s - loss: 0.5196 - accuracy: 0.8118 - 24ms/epoch - 832us/step\n",
      "Epoch 6/50\n",
      "29/29 - 0s - loss: 0.4900 - accuracy: 0.8390 - 27ms/epoch - 924us/step\n",
      "Epoch 7/50\n",
      "29/29 - 0s - loss: 0.4694 - accuracy: 0.8629 - 21ms/epoch - 726us/step\n",
      "Epoch 8/50\n",
      "29/29 - 0s - loss: 0.4543 - accuracy: 0.8716 - 23ms/epoch - 793us/step\n",
      "Epoch 9/50\n",
      "29/29 - 0s - loss: 0.4354 - accuracy: 0.8890 - 23ms/epoch - 803us/step\n",
      "Epoch 10/50\n",
      "29/29 - 0s - loss: 0.4201 - accuracy: 0.8934 - 21ms/epoch - 711us/step\n",
      "Epoch 11/50\n",
      "29/29 - 0s - loss: 0.4071 - accuracy: 0.9021 - 24ms/epoch - 825us/step\n",
      "Epoch 12/50\n",
      "29/29 - 0s - loss: 0.3938 - accuracy: 0.9042 - 21ms/epoch - 739us/step\n",
      "Epoch 13/50\n",
      "29/29 - 0s - loss: 0.3826 - accuracy: 0.9173 - 22ms/epoch - 742us/step\n",
      "Epoch 14/50\n",
      "29/29 - 0s - loss: 0.3701 - accuracy: 0.9129 - 25ms/epoch - 868us/step\n",
      "Epoch 15/50\n",
      "29/29 - 0s - loss: 0.3609 - accuracy: 0.9271 - 24ms/epoch - 815us/step\n",
      "Epoch 16/50\n",
      "29/29 - 0s - loss: 0.3523 - accuracy: 0.9217 - 23ms/epoch - 809us/step\n",
      "Epoch 17/50\n",
      "29/29 - 0s - loss: 0.3456 - accuracy: 0.9304 - 23ms/epoch - 787us/step\n",
      "Epoch 18/50\n",
      "29/29 - 0s - loss: 0.3328 - accuracy: 0.9293 - 21ms/epoch - 734us/step\n",
      "Epoch 19/50\n",
      "29/29 - 0s - loss: 0.3248 - accuracy: 0.9347 - 23ms/epoch - 806us/step\n",
      "Epoch 20/50\n",
      "29/29 - 0s - loss: 0.3188 - accuracy: 0.9380 - 22ms/epoch - 763us/step\n",
      "Epoch 21/50\n",
      "29/29 - 0s - loss: 0.3077 - accuracy: 0.9467 - 21ms/epoch - 729us/step\n",
      "Epoch 22/50\n",
      "29/29 - 0s - loss: 0.2996 - accuracy: 0.9467 - 24ms/epoch - 839us/step\n",
      "Epoch 23/50\n",
      "29/29 - 0s - loss: 0.2944 - accuracy: 0.9456 - 21ms/epoch - 722us/step\n",
      "Epoch 24/50\n",
      "29/29 - 0s - loss: 0.2843 - accuracy: 0.9554 - 22ms/epoch - 754us/step\n",
      "Epoch 25/50\n",
      "29/29 - 0s - loss: 0.2796 - accuracy: 0.9543 - 25ms/epoch - 875us/step\n",
      "Epoch 26/50\n",
      "29/29 - 0s - loss: 0.2738 - accuracy: 0.9576 - 23ms/epoch - 783us/step\n",
      "Epoch 27/50\n",
      "29/29 - 0s - loss: 0.2701 - accuracy: 0.9554 - 30ms/epoch - 1ms/step\n",
      "Epoch 28/50\n",
      "29/29 - 0s - loss: 0.2598 - accuracy: 0.9597 - 24ms/epoch - 818us/step\n",
      "Epoch 29/50\n",
      "29/29 - 0s - loss: 0.2541 - accuracy: 0.9619 - 22ms/epoch - 769us/step\n",
      "Epoch 30/50\n",
      "29/29 - 0s - loss: 0.2487 - accuracy: 0.9630 - 25ms/epoch - 875us/step\n",
      "Epoch 31/50\n",
      "29/29 - 0s - loss: 0.2439 - accuracy: 0.9608 - 20ms/epoch - 694us/step\n",
      "Epoch 32/50\n",
      "29/29 - 0s - loss: 0.2383 - accuracy: 0.9608 - 23ms/epoch - 792us/step\n",
      "Epoch 33/50\n",
      "29/29 - 0s - loss: 0.2344 - accuracy: 0.9619 - 23ms/epoch - 805us/step\n",
      "Epoch 34/50\n",
      "29/29 - 0s - loss: 0.2313 - accuracy: 0.9630 - 21ms/epoch - 731us/step\n",
      "Epoch 35/50\n",
      "29/29 - 0s - loss: 0.2251 - accuracy: 0.9684 - 23ms/epoch - 808us/step\n",
      "Epoch 36/50\n",
      "29/29 - 0s - loss: 0.2226 - accuracy: 0.9608 - 25ms/epoch - 862us/step\n",
      "Epoch 37/50\n",
      "29/29 - 0s - loss: 0.2157 - accuracy: 0.9717 - 23ms/epoch - 780us/step\n",
      "Epoch 38/50\n",
      "29/29 - 0s - loss: 0.2109 - accuracy: 0.9674 - 25ms/epoch - 879us/step\n",
      "Epoch 39/50\n",
      "29/29 - 0s - loss: 0.2071 - accuracy: 0.9717 - 22ms/epoch - 754us/step\n",
      "Epoch 40/50\n",
      "29/29 - 0s - loss: 0.2018 - accuracy: 0.9739 - 23ms/epoch - 791us/step\n",
      "Epoch 41/50\n",
      "29/29 - 0s - loss: 0.1992 - accuracy: 0.9750 - 24ms/epoch - 817us/step\n",
      "Epoch 42/50\n",
      "29/29 - 0s - loss: 0.1958 - accuracy: 0.9739 - 22ms/epoch - 760us/step\n",
      "Epoch 43/50\n",
      "29/29 - 0s - loss: 0.1949 - accuracy: 0.9706 - 25ms/epoch - 862us/step\n",
      "Epoch 44/50\n",
      "29/29 - 0s - loss: 0.1848 - accuracy: 0.9782 - 23ms/epoch - 795us/step\n",
      "Epoch 45/50\n",
      "29/29 - 0s - loss: 0.1820 - accuracy: 0.9750 - 23ms/epoch - 793us/step\n",
      "Epoch 46/50\n",
      "29/29 - 0s - loss: 0.1774 - accuracy: 0.9771 - 26ms/epoch - 882us/step\n",
      "Epoch 47/50\n",
      "29/29 - 0s - loss: 0.1752 - accuracy: 0.9761 - 23ms/epoch - 776us/step\n",
      "Epoch 48/50\n",
      "29/29 - 0s - loss: 0.1700 - accuracy: 0.9804 - 23ms/epoch - 804us/step\n",
      "Epoch 49/50\n",
      "29/29 - 0s - loss: 0.1679 - accuracy: 0.9815 - 23ms/epoch - 790us/step\n",
      "Epoch 50/50\n",
      "29/29 - 0s - loss: 0.1644 - accuracy: 0.9815 - 21ms/epoch - 733us/step\n",
      "8/8 - 0s - 40ms/epoch - 5ms/step\n",
      "Epoch 1/50\n",
      "29/29 - 1s - loss: 0.6993 - accuracy: 0.4897 - 529ms/epoch - 18ms/step\n",
      "Epoch 2/50\n",
      "29/29 - 0s - loss: 0.6885 - accuracy: 0.5136 - 27ms/epoch - 939us/step\n",
      "Epoch 3/50\n",
      "29/29 - 0s - loss: 0.6794 - accuracy: 0.6235 - 25ms/epoch - 856us/step\n",
      "Epoch 4/50\n",
      "29/29 - 0s - loss: 0.6603 - accuracy: 0.6757 - 24ms/epoch - 815us/step\n",
      "Epoch 5/50\n",
      "29/29 - 0s - loss: 0.6268 - accuracy: 0.7421 - 23ms/epoch - 788us/step\n",
      "Epoch 6/50\n",
      "29/29 - 0s - loss: 0.5812 - accuracy: 0.7715 - 23ms/epoch - 806us/step\n",
      "Epoch 7/50\n",
      "29/29 - 0s - loss: 0.5389 - accuracy: 0.8161 - 28ms/epoch - 950us/step\n",
      "Epoch 8/50\n",
      "29/29 - 0s - loss: 0.5059 - accuracy: 0.8477 - 24ms/epoch - 826us/step\n",
      "Epoch 9/50\n",
      "29/29 - 0s - loss: 0.4806 - accuracy: 0.8596 - 26ms/epoch - 887us/step\n",
      "Epoch 10/50\n",
      "29/29 - 0s - loss: 0.4598 - accuracy: 0.8770 - 25ms/epoch - 859us/step\n",
      "Epoch 11/50\n",
      "29/29 - 0s - loss: 0.4426 - accuracy: 0.8836 - 21ms/epoch - 734us/step\n",
      "Epoch 12/50\n",
      "29/29 - 0s - loss: 0.4280 - accuracy: 0.8901 - 25ms/epoch - 850us/step\n",
      "Epoch 13/50\n",
      "29/29 - 0s - loss: 0.4126 - accuracy: 0.9032 - 21ms/epoch - 741us/step\n",
      "Epoch 14/50\n",
      "29/29 - 0s - loss: 0.3989 - accuracy: 0.9042 - 21ms/epoch - 720us/step\n",
      "Epoch 15/50\n",
      "29/29 - 0s - loss: 0.3855 - accuracy: 0.9097 - 20ms/epoch - 678us/step\n",
      "Epoch 16/50\n",
      "29/29 - 0s - loss: 0.3748 - accuracy: 0.9097 - 23ms/epoch - 785us/step\n",
      "Epoch 17/50\n",
      "29/29 - 0s - loss: 0.3654 - accuracy: 0.9173 - 22ms/epoch - 766us/step\n",
      "Epoch 18/50\n",
      "29/29 - 0s - loss: 0.3544 - accuracy: 0.9173 - 22ms/epoch - 750us/step\n",
      "Epoch 19/50\n",
      "29/29 - 0s - loss: 0.3417 - accuracy: 0.9271 - 25ms/epoch - 859us/step\n",
      "Epoch 20/50\n",
      "29/29 - 0s - loss: 0.3312 - accuracy: 0.9293 - 31ms/epoch - 1ms/step\n",
      "Epoch 21/50\n",
      "29/29 - 0s - loss: 0.3202 - accuracy: 0.9391 - 23ms/epoch - 795us/step\n",
      "Epoch 22/50\n",
      "29/29 - 0s - loss: 0.3091 - accuracy: 0.9423 - 22ms/epoch - 774us/step\n",
      "Epoch 23/50\n",
      "29/29 - 0s - loss: 0.2996 - accuracy: 0.9456 - 21ms/epoch - 736us/step\n",
      "Epoch 24/50\n",
      "29/29 - 0s - loss: 0.2913 - accuracy: 0.9478 - 25ms/epoch - 878us/step\n",
      "Epoch 25/50\n",
      "29/29 - 0s - loss: 0.2827 - accuracy: 0.9489 - 23ms/epoch - 804us/step\n",
      "Epoch 26/50\n",
      "29/29 - 0s - loss: 0.2742 - accuracy: 0.9576 - 22ms/epoch - 771us/step\n",
      "Epoch 27/50\n",
      "29/29 - 0s - loss: 0.2664 - accuracy: 0.9587 - 23ms/epoch - 809us/step\n",
      "Epoch 28/50\n",
      "29/29 - 0s - loss: 0.2596 - accuracy: 0.9608 - 19ms/epoch - 668us/step\n",
      "Epoch 29/50\n",
      "29/29 - 0s - loss: 0.2525 - accuracy: 0.9674 - 22ms/epoch - 769us/step\n",
      "Epoch 30/50\n",
      "29/29 - 0s - loss: 0.2460 - accuracy: 0.9674 - 25ms/epoch - 851us/step\n",
      "Epoch 31/50\n",
      "29/29 - 0s - loss: 0.2387 - accuracy: 0.9739 - 24ms/epoch - 839us/step\n",
      "Epoch 32/50\n",
      "29/29 - 0s - loss: 0.2323 - accuracy: 0.9771 - 30ms/epoch - 1ms/step\n",
      "Epoch 33/50\n",
      "29/29 - 0s - loss: 0.2260 - accuracy: 0.9728 - 21ms/epoch - 711us/step\n",
      "Epoch 34/50\n",
      "29/29 - 0s - loss: 0.2211 - accuracy: 0.9761 - 21ms/epoch - 726us/step\n",
      "Epoch 35/50\n",
      "29/29 - 0s - loss: 0.2182 - accuracy: 0.9728 - 24ms/epoch - 818us/step\n",
      "Epoch 36/50\n",
      "29/29 - 0s - loss: 0.2097 - accuracy: 0.9804 - 20ms/epoch - 678us/step\n",
      "Epoch 37/50\n",
      "29/29 - 0s - loss: 0.2035 - accuracy: 0.9804 - 24ms/epoch - 815us/step\n",
      "Epoch 38/50\n",
      "29/29 - 0s - loss: 0.2004 - accuracy: 0.9826 - 23ms/epoch - 809us/step\n",
      "Epoch 39/50\n",
      "29/29 - 0s - loss: 0.1931 - accuracy: 0.9826 - 22ms/epoch - 745us/step\n",
      "Epoch 40/50\n",
      "29/29 - 0s - loss: 0.1899 - accuracy: 0.9837 - 23ms/epoch - 778us/step\n",
      "Epoch 41/50\n",
      "29/29 - 0s - loss: 0.1858 - accuracy: 0.9837 - 22ms/epoch - 767us/step\n",
      "Epoch 42/50\n",
      "29/29 - 0s - loss: 0.1814 - accuracy: 0.9815 - 21ms/epoch - 722us/step\n",
      "Epoch 43/50\n",
      "29/29 - 0s - loss: 0.1762 - accuracy: 0.9848 - 27ms/epoch - 944us/step\n",
      "Epoch 44/50\n",
      "29/29 - 0s - loss: 0.1712 - accuracy: 0.9869 - 22ms/epoch - 764us/step\n",
      "Epoch 45/50\n",
      "29/29 - 0s - loss: 0.1675 - accuracy: 0.9869 - 24ms/epoch - 825us/step\n",
      "Epoch 46/50\n",
      "29/29 - 0s - loss: 0.1642 - accuracy: 0.9880 - 22ms/epoch - 772us/step\n",
      "Epoch 47/50\n",
      "29/29 - 0s - loss: 0.1597 - accuracy: 0.9891 - 21ms/epoch - 717us/step\n",
      "Epoch 48/50\n",
      "29/29 - 0s - loss: 0.1566 - accuracy: 0.9902 - 25ms/epoch - 852us/step\n"
     ]
    },
    {
     "name": "stdout",
     "output_type": "stream",
     "text": [
      "Epoch 49/50\n",
      "29/29 - 0s - loss: 0.1541 - accuracy: 0.9891 - 21ms/epoch - 738us/step\n",
      "Epoch 50/50\n",
      "29/29 - 0s - loss: 0.1484 - accuracy: 0.9902 - 21ms/epoch - 733us/step\n",
      "8/8 - 0s - 41ms/epoch - 5ms/step\n",
      "Epoch 1/50\n",
      "29/29 - 1s - loss: 0.6882 - accuracy: 0.5174 - 666ms/epoch - 23ms/step\n",
      "Epoch 2/50\n",
      "29/29 - 0s - loss: 0.6627 - accuracy: 0.5663 - 24ms/epoch - 831us/step\n",
      "Epoch 3/50\n",
      "29/29 - 0s - loss: 0.6355 - accuracy: 0.6370 - 25ms/epoch - 862us/step\n",
      "Epoch 4/50\n",
      "29/29 - 0s - loss: 0.6034 - accuracy: 0.7033 - 25ms/epoch - 853us/step\n",
      "Epoch 5/50\n",
      "29/29 - 0s - loss: 0.5659 - accuracy: 0.7815 - 21ms/epoch - 711us/step\n",
      "Epoch 6/50\n",
      "29/29 - 0s - loss: 0.5245 - accuracy: 0.8315 - 23ms/epoch - 809us/step\n",
      "Epoch 7/50\n",
      "29/29 - 0s - loss: 0.4928 - accuracy: 0.8598 - 23ms/epoch - 785us/step\n",
      "Epoch 8/50\n",
      "29/29 - 0s - loss: 0.4664 - accuracy: 0.8750 - 22ms/epoch - 760us/step\n",
      "Epoch 9/50\n",
      "29/29 - 0s - loss: 0.4455 - accuracy: 0.8870 - 25ms/epoch - 848us/step\n",
      "Epoch 10/50\n",
      "29/29 - 0s - loss: 0.4300 - accuracy: 0.8891 - 22ms/epoch - 767us/step\n",
      "Epoch 11/50\n",
      "29/29 - 0s - loss: 0.4163 - accuracy: 0.8989 - 24ms/epoch - 815us/step\n",
      "Epoch 12/50\n",
      "29/29 - 0s - loss: 0.4051 - accuracy: 0.9109 - 28ms/epoch - 953us/step\n",
      "Epoch 13/50\n",
      "29/29 - 0s - loss: 0.3917 - accuracy: 0.9098 - 23ms/epoch - 800us/step\n",
      "Epoch 14/50\n",
      "29/29 - 0s - loss: 0.3800 - accuracy: 0.9185 - 27ms/epoch - 942us/step\n",
      "Epoch 15/50\n",
      "29/29 - 0s - loss: 0.3725 - accuracy: 0.9163 - 21ms/epoch - 730us/step\n",
      "Epoch 16/50\n",
      "29/29 - 0s - loss: 0.3643 - accuracy: 0.9239 - 21ms/epoch - 739us/step\n",
      "Epoch 17/50\n",
      "29/29 - 0s - loss: 0.3560 - accuracy: 0.9250 - 24ms/epoch - 831us/step\n",
      "Epoch 18/50\n",
      "29/29 - 0s - loss: 0.3503 - accuracy: 0.9283 - 22ms/epoch - 744us/step\n",
      "Epoch 19/50\n",
      "29/29 - 0s - loss: 0.3415 - accuracy: 0.9272 - 22ms/epoch - 753us/step\n",
      "Epoch 20/50\n",
      "29/29 - 0s - loss: 0.3336 - accuracy: 0.9348 - 24ms/epoch - 811us/step\n",
      "Epoch 21/50\n",
      "29/29 - 0s - loss: 0.3268 - accuracy: 0.9272 - 22ms/epoch - 742us/step\n",
      "Epoch 22/50\n",
      "29/29 - 0s - loss: 0.3222 - accuracy: 0.9283 - 23ms/epoch - 792us/step\n",
      "Epoch 23/50\n",
      "29/29 - 0s - loss: 0.3137 - accuracy: 0.9370 - 22ms/epoch - 744us/step\n",
      "Epoch 24/50\n",
      "29/29 - 0s - loss: 0.3084 - accuracy: 0.9391 - 21ms/epoch - 710us/step\n",
      "Epoch 25/50\n",
      "29/29 - 0s - loss: 0.3028 - accuracy: 0.9402 - 25ms/epoch - 877us/step\n",
      "Epoch 26/50\n",
      "29/29 - 0s - loss: 0.2950 - accuracy: 0.9467 - 21ms/epoch - 737us/step\n",
      "Epoch 27/50\n",
      "29/29 - 0s - loss: 0.2920 - accuracy: 0.9457 - 21ms/epoch - 720us/step\n",
      "Epoch 28/50\n",
      "29/29 - 0s - loss: 0.2842 - accuracy: 0.9489 - 25ms/epoch - 873us/step\n",
      "Epoch 29/50\n",
      "29/29 - 0s - loss: 0.2795 - accuracy: 0.9489 - 23ms/epoch - 789us/step\n",
      "Epoch 30/50\n",
      "29/29 - 0s - loss: 0.2746 - accuracy: 0.9489 - 23ms/epoch - 798us/step\n",
      "Epoch 31/50\n",
      "29/29 - 0s - loss: 0.2689 - accuracy: 0.9500 - 22ms/epoch - 764us/step\n",
      "Epoch 32/50\n",
      "29/29 - 0s - loss: 0.2644 - accuracy: 0.9511 - 22ms/epoch - 758us/step\n",
      "Epoch 33/50\n",
      "29/29 - 0s - loss: 0.2599 - accuracy: 0.9543 - 24ms/epoch - 811us/step\n",
      "Epoch 34/50\n",
      "29/29 - 0s - loss: 0.2545 - accuracy: 0.9533 - 23ms/epoch - 793us/step\n",
      "Epoch 35/50\n",
      "29/29 - 0s - loss: 0.2497 - accuracy: 0.9565 - 22ms/epoch - 763us/step\n",
      "Epoch 36/50\n",
      "29/29 - 0s - loss: 0.2452 - accuracy: 0.9587 - 25ms/epoch - 866us/step\n",
      "Epoch 37/50\n",
      "29/29 - 0s - loss: 0.2416 - accuracy: 0.9587 - 21ms/epoch - 740us/step\n",
      "Epoch 38/50\n",
      "29/29 - 0s - loss: 0.2359 - accuracy: 0.9565 - 22ms/epoch - 742us/step\n",
      "Epoch 39/50\n",
      "29/29 - 0s - loss: 0.2347 - accuracy: 0.9609 - 25ms/epoch - 848us/step\n",
      "Epoch 40/50\n",
      "29/29 - 0s - loss: 0.2294 - accuracy: 0.9587 - 22ms/epoch - 746us/step\n",
      "Epoch 41/50\n",
      "29/29 - 0s - loss: 0.2265 - accuracy: 0.9587 - 20ms/epoch - 698us/step\n",
      "Epoch 42/50\n",
      "29/29 - 0s - loss: 0.2188 - accuracy: 0.9576 - 21ms/epoch - 714us/step\n",
      "Epoch 43/50\n",
      "29/29 - 0s - loss: 0.2158 - accuracy: 0.9609 - 24ms/epoch - 838us/step\n",
      "Epoch 44/50\n",
      "29/29 - 0s - loss: 0.2107 - accuracy: 0.9663 - 22ms/epoch - 753us/step\n",
      "Epoch 45/50\n",
      "29/29 - 0s - loss: 0.2048 - accuracy: 0.9685 - 21ms/epoch - 722us/step\n",
      "Epoch 46/50\n",
      "29/29 - 0s - loss: 0.2027 - accuracy: 0.9652 - 26ms/epoch - 892us/step\n",
      "Epoch 47/50\n",
      "29/29 - 0s - loss: 0.1950 - accuracy: 0.9674 - 22ms/epoch - 750us/step\n",
      "Epoch 48/50\n",
      "29/29 - 0s - loss: 0.1909 - accuracy: 0.9685 - 23ms/epoch - 786us/step\n",
      "Epoch 49/50\n",
      "29/29 - 0s - loss: 0.1872 - accuracy: 0.9707 - 23ms/epoch - 784us/step\n",
      "Epoch 50/50\n",
      "29/29 - 0s - loss: 0.1865 - accuracy: 0.9739 - 22ms/epoch - 747us/step\n",
      "8/8 - 0s - 43ms/epoch - 5ms/step\n"
     ]
    },
    {
     "data": {
      "text/plain": [
       "array([0.95652174, 0.95652174, 0.93913043, 0.93913043, 0.89082969])"
      ]
     },
     "execution_count": 20,
     "metadata": {},
     "output_type": "execute_result"
    }
   ],
   "source": [
    "cross_val_score(keras_model, X_pure_train, y_pure_train)"
   ]
  },
  {
   "cell_type": "markdown",
   "metadata": {},
   "source": [
    "## Regularization"
   ]
  },
  {
   "cell_type": "markdown",
   "metadata": {},
   "source": [
    "Does regularization make sense in the context of neural networks? <br/>\n",
    "\n",
    "Yes! We still have all of the salient ingredients: a loss function, overfitting vs. underfitting, and coefficients (weights) that could get too large.\n",
    "\n",
    "But there are now a few different flavors besides L1 and L2 regularization. (Note that L1 regularization is not common in the context of  neural networks.)\n",
    "\n",
    "We'll add a few more layers to give regularization a better chance of making a difference!"
   ]
  },
  {
   "cell_type": "code",
   "execution_count": 21,
   "metadata": {},
   "outputs": [
    {
     "data": {
      "image/png": "[encoded data removed]",
      "text/plain": [
       "<Figure size 720x360 with 2 Axes>"
      ]
     },
     "metadata": {
      "needs_background": "light"
     },
     "output_type": "display_data"
    }
   ],
   "source": [
    "model = Sequential()\n",
    "model.add(Dense(30, activation='relu', input_dim=64))\n",
    "\n",
    "# We can add L2 (or L1) regularization right into\n",
    "# the layer with the kernel_regularizer parameter.\n",
    "\n",
    "model.add(Dense(20, activation='relu',\n",
    "                kernel_regularizer=l2(l2=0.05)))\n",
    "\n",
    "# Note that there is also a bias_regularizer,\n",
    "# but this tends to have less effect.\n",
    "\n",
    "model.add(Dense(12, activation='relu'))\n",
    "model.add(Dense(12, activation='relu'))\n",
    "model.add(Dense(12, activation='relu'))\n",
    "model.add(Dense(8, activation='relu'))\n",
    "model.add(Dense(4, activation='relu'))\n",
    "model.add(Dense(1, activation ='sigmoid'))\n",
    "\n",
    "model.compile(optimizer='adam',\n",
    "              loss='binary_crossentropy',\n",
    "              metrics=['accuracy'])\n",
    "\n",
    "results = model.fit(X_pure_train, y_pure_train, epochs=20, batch_size=32,\n",
    "                    verbose=0, validation_data=(X_val, y_val))\n",
    "\n",
    "train_loss = results.history['loss']\n",
    "train_acc = results.history['accuracy']\n",
    "val_loss = results.history['val_loss']\n",
    "val_acc = results.history['val_accuracy']\n",
    "\n",
    "\n",
    "fig, (ax1, ax2) = plt.subplots(1, 2, figsize=(10, 5))\n",
    "sns.lineplot(x=results.epoch, y=train_loss, ax=ax1, label='train_loss')\n",
    "sns.lineplot(x=results.epoch, y=train_acc, ax=ax2, label='train_accuracy')\n",
    "\n",
    "sns.lineplot(x=results.epoch, y=val_loss, ax=ax1, label='val_loss')\n",
    "sns.lineplot(x=results.epoch, y=val_acc, ax=ax2, label='val_accuracy');"
   ]
  },
  {
   "cell_type": "markdown",
   "metadata": {},
   "source": [
    "Adding L2 to multiple layers:"
   ]
  },
  {
   "cell_type": "code",
   "execution_count": 22,
   "metadata": {},
   "outputs": [
    {
     "data": {
      "image/png": "[encoded data removed]",
      "text/plain": [
       "<Figure size 720x360 with 2 Axes>"
      ]
     },
     "metadata": {
      "needs_background": "light"
     },
     "output_type": "display_data"
    }
   ],
   "source": [
    "model = Sequential()\n",
    "model.add(Dense(30, activation='relu',\n",
    "                input_dim=64))\n",
    "model.add(Dense(20, activation='relu',\n",
    "                kernel_regularizer=l2(l2=0.01)))\n",
    "\n",
    "model.add(Dense(12, activation='relu',\n",
    "                kernel_regularizer=l2(l2=0.01)))\n",
    "model.add(Dense(12, activation='relu',\n",
    "                kernel_regularizer=l2(l2=0.01)))\n",
    "model.add(Dense(12, activation='relu',\n",
    "                kernel_regularizer=l2(l2=0.01)))\n",
    "model.add(Dense(8, activation='relu',\n",
    "                kernel_regularizer=l2(l2=0.01)))\n",
    "model.add(Dense(4, activation='relu',\n",
    "                kernel_regularizer=l2(l2=0.01)))\n",
    "model.add(Dense(1, activation='sigmoid'))\n",
    "\n",
    "model.compile(optimizer='adam',\n",
    "              loss='binary_crossentropy',\n",
    "              metrics=['accuracy'])\n",
    "\n",
    "results = model.fit(X_pure_train, y_pure_train, epochs=20, batch_size=32,\n",
    "                    verbose=0, validation_data=(X_val, y_val))\n",
    "\n",
    "train_loss = results.history['loss']\n",
    "train_acc = results.history['accuracy']\n",
    "val_loss = results.history['val_loss']\n",
    "val_acc = results.history['val_accuracy']\n",
    "\n",
    "\n",
    "fig, (ax1, ax2) = plt.subplots(1, 2, figsize=(10, 5))\n",
    "sns.lineplot(x=results.epoch, y=train_loss, ax=ax1, label='train_loss')\n",
    "sns.lineplot(x=results.epoch, y=train_acc, ax=ax2, label='train_accuracy')\n",
    "\n",
    "sns.lineplot(x=results.epoch, y=val_loss, ax=ax1, label='val_loss')\n",
    "sns.lineplot(x=results.epoch, y=val_acc, ax=ax2, label='val_accuracy');"
   ]
  },
  {
   "cell_type": "markdown",
   "metadata": {},
   "source": [
    "### Dropout\n",
    "\n",
    "We can also specify a dropout layer in keras, which randomly shuts off different nodes during training. This can help to prevent overfitting.\n",
    "\n",
    "![drop_out](/images/drop_out.png)"
   ]
  },
  {
   "cell_type": "markdown",
   "metadata": {},
   "source": [
    "### Exercise\n",
    "\n",
    "To add dropout to a `keras` network, simply add it as though it were a layer. It will apply to the immediately preceding layer.\n",
    "\n",
    "Add Dropout to one or more layers below."
   ]
  },
  {
   "cell_type": "code",
   "execution_count": 23,
   "metadata": {},
   "outputs": [
    {
     "data": {
      "image/png": "[encoded data removed]",
      "text/plain": [
       "<Figure size 720x360 with 2 Axes>"
      ]
     },
     "metadata": {
      "needs_background": "light"
     },
     "output_type": "display_data"
    }
   ],
   "source": [
    "model = Sequential()\n",
    "model.add(Dense(30, activation='relu', input_dim=64))\n",
    "model.add(Dense(20, activation='relu'))\n",
    "model.add(Dense(12, activation='relu'))\n",
    "model.add(Dense(12, activation='relu'))\n",
    "model.add(Dense(12, activation='relu'))\n",
    "model.add(Dense(8, activation='relu'))\n",
    "model.add(Dense(4, activation='relu'))\n",
    "model.add(Dense(1, activation ='sigmoid'))\n",
    "\n",
    "model.compile(optimizer='adam',\n",
    "              loss='binary_crossentropy',\n",
    "              metrics=['accuracy'])\n",
    "\n",
    "results = model.fit(X_pure_train, y_pure_train, epochs=50,\n",
    "                    batch_size= 32, verbose=0,\n",
    "                    validation_data=(X_val, y_val))\n",
    "\n",
    "train_loss = results.history['loss']\n",
    "train_acc = results.history['accuracy']\n",
    "val_loss = results.history['val_loss']\n",
    "val_acc = results.history['val_accuracy']\n",
    "\n",
    "\n",
    "fig, (ax1, ax2) = plt.subplots(1, 2, figsize=(10, 5))\n",
    "sns.lineplot(x=results.epoch, y=train_loss, ax=ax1, label='train_loss')\n",
    "sns.lineplot(x=results.epoch, y=train_acc, ax=ax2, label='train_accuracy')\n",
    "\n",
    "sns.lineplot(x=results.epoch, y=val_loss, ax=ax1, label='val_loss')\n",
    "sns.lineplot(x=results.epoch, y=val_acc, ax=ax2, label='val_accuracy');"
   ]
  },
  {
   "cell_type": "markdown",
   "metadata": {},
   "source": [
    "<details>\n",
    "    <summary>One answer here</summary>\n",
    "<code>model = Sequential()\n",
    "model.add(Dense(30, activation='relu', input_dim=64))\n",
    "model.add(Dense(20, activation='relu'))\n",
    "model.add(Dropout(0.5))\n",
    "model.add(Dense(12, activation='relu'))\n",
    "model.add(Dropout(0.2))\n",
    "model.add(Dense(12, activation='relu'))\n",
    "model.add(Dense(12, activation='relu'))\n",
    "model.add(Dense(8, activation='relu'))\n",
    "model.add(Dense(4, activation='relu'))\n",
    "model.add(Dense(1, activation ='sigmoid'))\n",
    "\n",
    "model.compile(optimizer='adam',\n",
    "              loss='binary_crossentropy',\n",
    "              metrics=['accuracy'])\n",
    "\n",
    "results = model.fit(X_pure_train, y_pure_train, epochs=50,\n",
    "                    batch_size= 32, verbose=0,\n",
    "                    validation_data=(X_val, y_val))\n",
    "\n",
    "train_loss = results.history['loss']\n",
    "train_acc = results.history['accuracy']\n",
    "val_loss = results.history['val_loss']\n",
    "val_acc = results.history['val_accuracy']\n",
    "\n",
    "\n",
    "fig, (ax1, ax2) = plt.subplots(1, 2, figsize=(10, 5))\n",
    "sns.lineplot(x=results.epoch, y=train_loss, ax=ax1, label='train_loss')\n",
    "sns.lineplot(x=results.epoch, y=train_acc, ax=ax2, label='train_accuracy')\n",
    "\n",
    "sns.lineplot(x=results.epoch, y=val_loss, ax=ax1, label='val_loss')\n",
    "sns.lineplot(x=results.epoch, y=val_acc, ax=ax2, label='val_accuracy');</code>\n",
    "</details>"
   ]
  },
  {
   "cell_type": "code",
   "execution_count": 24,
   "metadata": {},
   "outputs": [
    {
     "data": {
      "text/plain": [
       "0.9756944179534912"
      ]
     },
     "execution_count": 24,
     "metadata": {},
     "output_type": "execute_result"
    }
   ],
   "source": [
    "results.history['val_accuracy'][-1]"
   ]
  },
  {
   "cell_type": "markdown",
   "metadata": {},
   "source": [
    "### Early Stopping"
   ]
  },
  {
   "cell_type": "markdown",
   "metadata": {},
   "source": [
    "We can also tell our neural network to stop once it stops realizing any gain.\n",
    "\n",
    "Here we tell it to stop once the a very small positive change in the validation loss occurs:"
   ]
  },
  {
   "cell_type": "code",
   "execution_count": 25,
   "metadata": {},
   "outputs": [
    {
     "name": "stdout",
     "output_type": "stream",
     "text": [
      "Epoch 15: early stopping\n"
     ]
    },
    {
     "data": {
      "image/png": "[encoded data removed]",
      "text/plain": [
       "<Figure size 720x360 with 2 Axes>"
      ]
     },
     "metadata": {
      "needs_background": "light"
     },
     "output_type": "display_data"
    }
   ],
   "source": [
    "model = Sequential()\n",
    "model.add(Dense(30, activation='relu', input_dim=64))\n",
    "model.add(Dense(20, activation='relu'))\n",
    "model.add(Dropout(0.5))\n",
    "model.add(Dense(12, activation='relu'))\n",
    "model.add(Dense(12, activation='relu'))\n",
    "model.add(Dense(12, activation='relu'))\n",
    "model.add(Dense(8, activation='relu'))\n",
    "model.add(Dense(4, activation='relu'))\n",
    "model.add(Dense(1, activation ='sigmoid'))\n",
    "\n",
    "model.compile(optimizer='adam',\n",
    "              loss='binary_crossentropy',\n",
    "              metrics=['accuracy'])\n",
    "\n",
    "# Define the EarlyStopping object\n",
    "early_stop = EarlyStopping(monitor='val_loss', min_delta=1e-8,\n",
    "                           verbose=1,\n",
    "                           mode='min')\n",
    "\n",
    "# Place this in a list as the value of the `callbacks` parameter\n",
    "# in the `.fit()` method.\n",
    "results = model.fit(X_pure_train, y_pure_train,\n",
    "                    epochs=20, batch_size=32,\n",
    "                    verbose=0, validation_data=(X_val, y_val),\n",
    "                    callbacks=[early_stop])\n",
    "\n",
    "train_loss = results.history['loss']\n",
    "train_acc = results.history['accuracy']\n",
    "val_loss = results.history['val_loss']\n",
    "val_acc = results.history['val_accuracy']\n",
    "\n",
    "\n",
    "fig, (ax1, ax2) = plt.subplots(1, 2, figsize=(10, 5))\n",
    "sns.lineplot(x=results.epoch, y=train_loss, ax=ax1, label='train_loss')\n",
    "sns.lineplot(x=results.epoch, y=train_acc, ax=ax2, label='train_accuracy')\n",
    "\n",
    "sns.lineplot(x=results.epoch, y=val_loss, ax=ax1, label='val_loss')\n",
    "sns.lineplot(x=results.epoch, y=val_acc, ax=ax2, label='val_accuracy');"
   ]
  },
  {
   "cell_type": "markdown",
   "metadata": {},
   "source": [
    "### Exercise\n",
    "\n",
    "That probably stopped too early. We can specify the number of epochs in which it doesn't see decrease in the loss with the `patience` parameter. Modify the code below to include an Early Stop with a patience of 5 epochs."
   ]
  },
  {
   "cell_type": "code",
   "execution_count": 26,
   "metadata": {},
   "outputs": [
    {
     "name": "stdout",
     "output_type": "stream",
     "text": [
      "Epoch 31: early stopping\n"
     ]
    },
    {
     "data": {
      "image/png": "[encoded data removed]",
      "text/plain": [
       "<Figure size 720x360 with 2 Axes>"
      ]
     },
     "metadata": {
      "needs_background": "light"
     },
     "output_type": "display_data"
    }
   ],
   "source": [
    "model = Sequential()\n",
    "model.add(Dense(30, activation='relu', input_dim=64))\n",
    "model.add(Dense(20, activation='relu'))\n",
    "model.add(Dropout(0.5))\n",
    "model.add(Dense(12, activation='relu'))\n",
    "model.add(Dense(12, activation='relu'))\n",
    "model.add(Dense(12, activation='relu'))\n",
    "model.add(Dense(8, activation='relu'))\n",
    "model.add(Dense(4, activation='relu'))\n",
    "model.add(Dense(1, activation ='sigmoid'))\n",
    "\n",
    "model.compile(optimizer='adam',\n",
    "              loss='binary_crossentropy',\n",
    "              metrics=['accuracy'])\n",
    "\n",
    "# Define the EarlyStopping object\n",
    "early_stop = EarlyStopping(monitor='val_loss', min_delta=1e-8,\n",
    "                           verbose=1, patience=5,\n",
    "                           mode='min')\n",
    "\n",
    "# Place this in a list as the value of the `callbacks` parameter\n",
    "# in the `.fit()` method.\n",
    "results = model.fit(X_pure_train, y_pure_train,\n",
    "                    epochs=50, batch_size= 32,\n",
    "                    verbose=0, validation_data=(X_val, y_val),\n",
    "                    callbacks=[early_stop])\n",
    "\n",
    "train_loss = results.history['loss']\n",
    "train_acc = results.history['accuracy']\n",
    "val_loss = results.history['val_loss']\n",
    "val_acc = results.history['val_accuracy']\n",
    "\n",
    "\n",
    "fig, (ax1, ax2) = plt.subplots(1, 2, figsize=(10, 5))\n",
    "sns.lineplot(x=results.epoch, y=train_loss, ax=ax1, label='train_loss')\n",
    "sns.lineplot(x=results.epoch, y=train_acc, ax=ax2, label='train_accuracy')\n",
    "\n",
    "sns.lineplot(x=results.epoch, y=val_loss, ax=ax1, label='val_loss')\n",
    "sns.lineplot(x=results.epoch, y=val_acc, ax=ax2, label='val_accuracy');"
   ]
  },
  {
   "cell_type": "markdown",
   "metadata": {},
   "source": [
    "<details>\n",
    "    <summary>One answer here</summary>\n",
    "<code>model = Sequential()\n",
    "model.add(Dense(30, activation='relu', input_dim=64))\n",
    "model.add(Dense(20, activation='relu'))\n",
    "model.add(Dropout(0.5))\n",
    "model.add(Dense(12, activation='relu'))\n",
    "model.add(Dense(12, activation='relu'))\n",
    "model.add(Dense(12, activation='relu'))\n",
    "model.add(Dense(8, activation='relu'))\n",
    "model.add(Dense(4, activation='relu'))\n",
    "model.add(Dense(1, activation ='sigmoid'))\n",
    "\n",
    "model.compile(optimizer='adam',\n",
    "              loss='binary_crossentropy',\n",
    "              metrics=['accuracy'])\n",
    "\n",
    "# Define the EarlyStopping object\n",
    "\n",
    "\n",
    "\n",
    "# Place this in a list as the value of the `callbacks` parameter\n",
    "# in the `.fit()` method.\n",
    "results = model.fit(X_pure_train, y_pure_train,\n",
    "                    epochs=50, batch_size= 32,\n",
    "                    verbose=0, validation_data=(X_val, y_val),\n",
    "                    callbacks=[early_stop])\n",
    "\n",
    "train_loss = results.history['loss']\n",
    "train_acc = results.history['accuracy']\n",
    "val_loss = results.history['val_loss']\n",
    "val_acc = results.history['val_accuracy']\n",
    "\n",
    "\n",
    "fig, (ax1, ax2) = plt.subplots(1, 2, figsize=(10, 5))\n",
    "sns.lineplot(x=results.epoch, y=train_loss, ax=ax1, label='train_loss')\n",
    "sns.lineplot(x=results.epoch, y=train_acc, ax=ax2, label='train_accuracy')\n",
    "\n",
    "sns.lineplot(x=results.epoch, y=val_loss, ax=ax1, label='val_loss')\n",
    "sns.lineplot(x=results.epoch, y=val_acc, ax=ax2, label='val_accuracy');</code>\n",
    "</details>"
   ]
  },
  {
   "cell_type": "code",
   "execution_count": 28,
   "metadata": {},
   "outputs": [
    {
     "data": {
      "text/plain": [
       "0.9652777910232544"
      ]
     },
     "execution_count": 28,
     "metadata": {},
     "output_type": "execute_result"
    }
   ],
   "source": [
    "results.history['val_accuracy'][-1]"
   ]
  },
  {
   "cell_type": "markdown",
   "metadata": {},
   "source": [
    "## Multiclass Classification and Softmax"
   ]
  },
  {
   "cell_type": "markdown",
   "metadata": {},
   "source": [
    "Now let's return to the problem of predicting digits 0 through 9."
   ]
  },
  {
   "cell_type": "code",
   "execution_count": 29,
   "metadata": {},
   "outputs": [],
   "source": [
    "digits = load_digits()\n",
    "X = digits.data\n",
    "y = digits.target"
   ]
  },
  {
   "cell_type": "code",
   "execution_count": 30,
   "metadata": {},
   "outputs": [],
   "source": [
    "X_train, X_test, y_train, y_test = train_test_split(X, y,\n",
    "                                                    random_state=42,\n",
    "                                                    test_size=0.2)\n",
    "X_pure_train, X_val, y_pure_train, y_val =\\\n",
    "    train_test_split(X_train, y_train,\n",
    "                     random_state=42, test_size=0.2)\n",
    "X_pure_train, X_val, X_test = X_pure_train/16, X_val/16, X_test/16"
   ]
  },
  {
   "cell_type": "markdown",
   "metadata": {},
   "source": [
    "For a multiclass output, our neural net expects our target to be in a certain form."
   ]
  },
  {
   "cell_type": "code",
   "execution_count": 31,
   "metadata": {},
   "outputs": [
    {
     "name": "stderr",
     "output_type": "stream",
     "text": [
      "/Users/charlesrice/opt/anaconda3/envs/learn-env/lib/python3.8/site-packages/sklearn/preprocessing/_encoders.py:975: FutureWarning: `sparse` was renamed to `sparse_output` in version 1.2 and will be removed in 1.4. `sparse_output` is ignored unless you leave `sparse` to its default value.\n",
      "  warnings.warn(\n"
     ]
    }
   ],
   "source": [
    "ohe = OneHotEncoder(sparse=False)\n",
    "y_pure_train = ohe.fit_transform(y_pure_train.reshape(-1,1))\n",
    "y_val = ohe.transform(y_val.reshape(-1,1))\n",
    "y_test = ohe.transform(y_test.reshape(-1,1))"
   ]
  },
  {
   "cell_type": "code",
   "execution_count": 32,
   "metadata": {},
   "outputs": [
    {
     "data": {
      "text/plain": [
       "array([[0., 0., 0., ..., 0., 0., 0.],\n",
       "       [0., 0., 0., ..., 0., 0., 1.],\n",
       "       [0., 0., 0., ..., 0., 0., 0.],\n",
       "       ...,\n",
       "       [0., 0., 0., ..., 0., 1., 0.],\n",
       "       [0., 0., 0., ..., 0., 0., 0.],\n",
       "       [0., 0., 0., ..., 0., 0., 0.]])"
      ]
     },
     "execution_count": 32,
     "metadata": {},
     "output_type": "execute_result"
    }
   ],
   "source": [
    "y_test"
   ]
  },
  {
   "cell_type": "code",
   "execution_count": 33,
   "metadata": {},
   "outputs": [
    {
     "name": "stdout",
     "output_type": "stream",
     "text": [
      "Epoch 1/50\n",
      "115/115 [==============================] - 1s 2ms/step - loss: 2.2019 - accuracy: 0.2045 - val_loss: 2.1103 - val_accuracy: 0.2708\n",
      "Epoch 2/50\n",
      "115/115 [==============================] - 0s 1ms/step - loss: 1.9112 - accuracy: 0.3812 - val_loss: 1.7703 - val_accuracy: 0.4688\n",
      "Epoch 3/50\n",
      "115/115 [==============================] - 0s 1ms/step - loss: 1.4800 - accuracy: 0.5918 - val_loss: 1.3175 - val_accuracy: 0.6354\n",
      "Epoch 4/50\n",
      "115/115 [==============================] - 0s 1ms/step - loss: 1.0838 - accuracy: 0.6971 - val_loss: 1.0064 - val_accuracy: 0.7639\n",
      "Epoch 5/50\n",
      "115/115 [==============================] - 0s 1ms/step - loss: 0.8423 - accuracy: 0.7763 - val_loss: 0.8286 - val_accuracy: 0.7708\n",
      "Epoch 6/50\n",
      "115/115 [==============================] - 0s 1ms/step - loss: 0.6945 - accuracy: 0.8059 - val_loss: 0.7144 - val_accuracy: 0.7812\n",
      "Epoch 7/50\n",
      "115/115 [==============================] - 0s 1ms/step - loss: 0.5962 - accuracy: 0.8285 - val_loss: 0.6453 - val_accuracy: 0.7951\n",
      "Epoch 8/50\n",
      "115/115 [==============================] - 0s 1ms/step - loss: 0.5303 - accuracy: 0.8520 - val_loss: 0.5693 - val_accuracy: 0.8125\n",
      "Epoch 9/50\n",
      "115/115 [==============================] - 0s 1ms/step - loss: 0.4747 - accuracy: 0.8668 - val_loss: 0.5138 - val_accuracy: 0.8472\n",
      "Epoch 10/50\n",
      "115/115 [==============================] - 0s 1ms/step - loss: 0.4327 - accuracy: 0.8721 - val_loss: 0.4710 - val_accuracy: 0.8507\n",
      "Epoch 11/50\n",
      "115/115 [==============================] - 0s 1ms/step - loss: 0.3972 - accuracy: 0.8869 - val_loss: 0.4334 - val_accuracy: 0.8611\n",
      "Epoch 12/50\n",
      "115/115 [==============================] - 0s 1ms/step - loss: 0.3696 - accuracy: 0.8903 - val_loss: 0.4290 - val_accuracy: 0.8542\n",
      "Epoch 13/50\n",
      "115/115 [==============================] - 0s 1ms/step - loss: 0.3434 - accuracy: 0.9017 - val_loss: 0.3924 - val_accuracy: 0.8681\n",
      "Epoch 14/50\n",
      "115/115 [==============================] - 0s 1ms/step - loss: 0.3212 - accuracy: 0.9095 - val_loss: 0.3655 - val_accuracy: 0.8924\n",
      "Epoch 15/50\n",
      "115/115 [==============================] - 0s 1ms/step - loss: 0.3009 - accuracy: 0.9234 - val_loss: 0.3365 - val_accuracy: 0.8889\n",
      "Epoch 16/50\n",
      "115/115 [==============================] - 0s 1ms/step - loss: 0.2828 - accuracy: 0.9191 - val_loss: 0.3330 - val_accuracy: 0.8958\n",
      "Epoch 17/50\n",
      "115/115 [==============================] - 0s 1ms/step - loss: 0.2677 - accuracy: 0.9260 - val_loss: 0.3114 - val_accuracy: 0.9201\n",
      "Epoch 18/50\n",
      "115/115 [==============================] - 0s 1ms/step - loss: 0.2540 - accuracy: 0.9347 - val_loss: 0.2900 - val_accuracy: 0.9097\n",
      "Epoch 19/50\n",
      "115/115 [==============================] - 0s 1ms/step - loss: 0.2397 - accuracy: 0.9356 - val_loss: 0.2831 - val_accuracy: 0.9097\n",
      "Epoch 20/50\n",
      "115/115 [==============================] - 0s 1ms/step - loss: 0.2268 - accuracy: 0.9373 - val_loss: 0.2856 - val_accuracy: 0.8958\n",
      "Epoch 21/50\n",
      "115/115 [==============================] - 0s 1ms/step - loss: 0.2165 - accuracy: 0.9312 - val_loss: 0.2699 - val_accuracy: 0.9062\n",
      "Epoch 22/50\n",
      "115/115 [==============================] - 0s 1ms/step - loss: 0.2063 - accuracy: 0.9487 - val_loss: 0.2664 - val_accuracy: 0.9132\n",
      "Epoch 23/50\n",
      "115/115 [==============================] - 0s 1ms/step - loss: 0.1971 - accuracy: 0.9452 - val_loss: 0.2528 - val_accuracy: 0.9062\n",
      "Epoch 24/50\n",
      "115/115 [==============================] - 0s 1ms/step - loss: 0.1874 - accuracy: 0.9460 - val_loss: 0.2335 - val_accuracy: 0.9236\n",
      "Epoch 25/50\n",
      "115/115 [==============================] - 0s 1ms/step - loss: 0.1789 - accuracy: 0.9513 - val_loss: 0.2309 - val_accuracy: 0.9132\n",
      "Epoch 26/50\n",
      "115/115 [==============================] - 0s 1ms/step - loss: 0.1720 - accuracy: 0.9565 - val_loss: 0.2259 - val_accuracy: 0.9236\n",
      "Epoch 27/50\n",
      "115/115 [==============================] - 0s 1ms/step - loss: 0.1654 - accuracy: 0.9547 - val_loss: 0.2153 - val_accuracy: 0.9132\n",
      "Epoch 28/50\n",
      "115/115 [==============================] - 0s 1ms/step - loss: 0.1612 - accuracy: 0.9521 - val_loss: 0.2104 - val_accuracy: 0.9167\n",
      "Epoch 29/50\n",
      "115/115 [==============================] - 0s 1ms/step - loss: 0.1532 - accuracy: 0.9565 - val_loss: 0.2161 - val_accuracy: 0.9201\n",
      "Epoch 30/50\n",
      "115/115 [==============================] - 0s 1ms/step - loss: 0.1490 - accuracy: 0.9608 - val_loss: 0.1952 - val_accuracy: 0.9375\n",
      "Epoch 31/50\n",
      "115/115 [==============================] - 0s 1ms/step - loss: 0.1420 - accuracy: 0.9617 - val_loss: 0.2045 - val_accuracy: 0.9167\n",
      "Epoch 32/50\n",
      "115/115 [==============================] - 0s 1ms/step - loss: 0.1353 - accuracy: 0.9661 - val_loss: 0.1830 - val_accuracy: 0.9375\n",
      "Epoch 33/50\n",
      "115/115 [==============================] - 0s 1ms/step - loss: 0.1304 - accuracy: 0.9634 - val_loss: 0.1989 - val_accuracy: 0.9167\n",
      "Epoch 34/50\n",
      "115/115 [==============================] - 0s 1ms/step - loss: 0.1280 - accuracy: 0.9643 - val_loss: 0.1790 - val_accuracy: 0.9306\n",
      "Epoch 35/50\n",
      "115/115 [==============================] - 0s 1ms/step - loss: 0.1238 - accuracy: 0.9695 - val_loss: 0.1777 - val_accuracy: 0.9201\n",
      "Epoch 36/50\n",
      "115/115 [==============================] - 0s 1ms/step - loss: 0.1193 - accuracy: 0.9721 - val_loss: 0.1875 - val_accuracy: 0.9201\n",
      "Epoch 37/50\n",
      "115/115 [==============================] - 0s 1ms/step - loss: 0.1152 - accuracy: 0.9721 - val_loss: 0.1792 - val_accuracy: 0.9236\n",
      "Epoch 38/50\n",
      "115/115 [==============================] - 0s 1ms/step - loss: 0.1118 - accuracy: 0.9739 - val_loss: 0.1724 - val_accuracy: 0.9201\n",
      "Epoch 39/50\n",
      "115/115 [==============================] - 0s 1ms/step - loss: 0.1074 - accuracy: 0.9739 - val_loss: 0.1580 - val_accuracy: 0.9410\n",
      "Epoch 40/50\n",
      "115/115 [==============================] - 0s 1ms/step - loss: 0.1052 - accuracy: 0.9791 - val_loss: 0.1664 - val_accuracy: 0.9340\n",
      "Epoch 41/50\n",
      "115/115 [==============================] - 0s 1ms/step - loss: 0.1002 - accuracy: 0.9739 - val_loss: 0.1527 - val_accuracy: 0.9479\n",
      "Epoch 42/50\n",
      "115/115 [==============================] - 0s 1ms/step - loss: 0.0990 - accuracy: 0.9721 - val_loss: 0.1659 - val_accuracy: 0.9167\n",
      "Epoch 43/50\n",
      "115/115 [==============================] - 0s 1ms/step - loss: 0.0963 - accuracy: 0.9774 - val_loss: 0.1629 - val_accuracy: 0.9306\n",
      "Epoch 44/50\n",
      "115/115 [==============================] - 0s 1ms/step - loss: 0.0905 - accuracy: 0.9800 - val_loss: 0.1621 - val_accuracy: 0.9375\n",
      "Epoch 45/50\n",
      "115/115 [==============================] - 0s 1ms/step - loss: 0.0885 - accuracy: 0.9774 - val_loss: 0.1549 - val_accuracy: 0.9306\n",
      "Epoch 46/50\n",
      "115/115 [==============================] - 0s 1ms/step - loss: 0.0890 - accuracy: 0.9774 - val_loss: 0.1498 - val_accuracy: 0.9444\n",
      "Epoch 47/50\n",
      "115/115 [==============================] - 0s 1ms/step - loss: 0.0838 - accuracy: 0.9817 - val_loss: 0.1424 - val_accuracy: 0.9375\n",
      "Epoch 48/50\n",
      "115/115 [==============================] - 0s 1ms/step - loss: 0.0815 - accuracy: 0.9826 - val_loss: 0.1394 - val_accuracy: 0.9444\n",
      "Epoch 49/50\n",
      "115/115 [==============================] - 0s 1ms/step - loss: 0.0813 - accuracy: 0.9782 - val_loss: 0.1471 - val_accuracy: 0.9444\n",
      "Epoch 50/50\n",
      "115/115 [==============================] - 0s 1ms/step - loss: 0.0772 - accuracy: 0.9835 - val_loss: 0.1446 - val_accuracy: 0.9410\n"
     ]
    }
   ],
   "source": [
    "# Model from above, but now with ten output neurons:\n",
    "\n",
    "model = Sequential()\n",
    "model.add(Dense(12, activation='relu', input_dim=64))\n",
    "model.add(Dense(8, activation='relu'))\n",
    "model.add(Dense(10, activation='softmax'))\n",
    "\n",
    "model.compile(optimizer='adam',\n",
    "              loss='categorical_crossentropy',\n",
    "              metrics=['accuracy'])\n",
    "\n",
    "results = model.fit(X_pure_train, y_pure_train,\n",
    "                   epochs=50, batch_size=10,\n",
    "                   validation_data=(X_val, y_val))"
   ]
  },
  {
   "cell_type": "markdown",
   "metadata": {},
   "source": [
    "$$\\large \\text{Softmax}(x_{i}) = \\frac{\\exp(x_i)}{\\sum_j \\exp(x_j)}$$\n",
    "\n",
    "The sofmax function outputs a number between 0 and 1 for each of our classes.  All of the probabilities of the classes sum up to 1.\n",
    "\n",
    "The number of nodes in our output layer equals the number of categories in our dataset.\n",
    "\n",
    "We also need a new loss function: **categorical crossentropy**, which calculates a separate loss for each label and then sums the results."
   ]
  },
  {
   "cell_type": "code",
   "execution_count": 34,
   "metadata": {},
   "outputs": [],
   "source": [
    "history = results.history\n",
    "training_loss = history['loss']\n",
    "val_loss = history['val_loss']\n",
    "training_accuracy = history['accuracy']\n",
    "val_accuracy = history['val_accuracy']"
   ]
  },
  {
   "cell_type": "code",
   "execution_count": 35,
   "metadata": {},
   "outputs": [
    {
     "data": {
      "image/png": "[encoded data removed]",
      "text/plain": [
       "<Figure size 1080x360 with 2 Axes>"
      ]
     },
     "metadata": {
      "needs_background": "light"
     },
     "output_type": "display_data"
    }
   ],
   "source": [
    "fig, (ax1,ax2) = plt.subplots(1,2,figsize=(15,5))\n",
    "\n",
    "\n",
    "sns.lineplot(x=list(range(len(training_loss))),\n",
    "             y=training_loss, color='r', label='training', ax=ax1)\n",
    "sns.lineplot(x=list(range(len(val_loss))),\n",
    "             y=val_loss, color='b', label='validation', ax=ax1)\n",
    "sns.lineplot(x=list(range(len(training_loss))),\n",
    "             y=training_accuracy, color='r', label='training',ax=ax2)\n",
    "sns.lineplot(x=list(range(len(val_loss))),\n",
    "             y=val_accuracy, color='b', label='validation',ax=ax2)\n",
    "ax1.legend();"
   ]
  },
  {
   "cell_type": "code",
   "execution_count": 36,
   "metadata": {},
   "outputs": [
    {
     "name": "stdout",
     "output_type": "stream",
     "text": [
      "12/12 [==============================] - 0s 623us/step\n"
     ]
    }
   ],
   "source": [
    "y_hat_test = np.argmax(model.predict(X_test), axis=-1)"
   ]
  },
  {
   "cell_type": "code",
   "execution_count": 37,
   "metadata": {},
   "outputs": [
    {
     "data": {
      "text/plain": [
       "array([[31,  0,  0,  0,  0,  1,  1,  0,  0,  0],\n",
       "       [ 0, 28,  0,  0,  0,  0,  0,  0,  0,  0],\n",
       "       [ 0,  1, 29,  2,  0,  0,  0,  0,  1,  0],\n",
       "       [ 0,  0,  0, 33,  0,  0,  0,  0,  0,  1],\n",
       "       [ 0,  1,  0,  0, 45,  0,  0,  0,  0,  0],\n",
       "       [ 0,  0,  0,  0,  0, 45,  0,  0,  0,  2],\n",
       "       [ 1,  0,  0,  0,  0,  0, 34,  0,  0,  0],\n",
       "       [ 0,  0,  0,  0,  0,  1,  0, 33,  0,  0],\n",
       "       [ 0,  1,  0,  0,  0,  1,  0,  0, 27,  1],\n",
       "       [ 0,  0,  0,  2,  0,  0,  0,  0,  0, 38]])"
      ]
     },
     "execution_count": 37,
     "metadata": {},
     "output_type": "execute_result"
    }
   ],
   "source": [
    "y_test_restore = ohe.inverse_transform(y_test)\n",
    "confusion_matrix(y_test_restore, y_hat_test)"
   ]
  },
  {
   "cell_type": "markdown",
   "metadata": {},
   "source": [
    "Wow, look at that performance!  \n",
    "\n",
    "That is great, but remember, we were dealing with simple black and white images.  With color, our basic neural net will have less success.\n",
    "\n",
    "We will explore more advanced tools in the coming days.\n"
   ]
  },
  {
   "cell_type": "code",
   "execution_count": null,
   "metadata": {
    "colab_type": "text",
    "id": "EdZDyJfARV8l"
   },
   "outputs": [],
   "source": []
  }
 ],
 "metadata": {
  "celltoolbar": "Raw Cell Format",
  "colab": {
   "collapsed_sections": [],
   "name": "intro-to-keras.ipynb",
   "provenance": []
  },
  "kernelspec": {
   "display_name": "Python 3",
   "language": "python",
   "name": "python3"
  },
  "language_info": {
   "codemirror_mode": {
    "name": "ipython",
    "version": 3
   },
   "file_extension": ".py",
   "mimetype": "text/x-python",
   "name": "python",
   "nbconvert_exporter": "python",
   "pygments_lexer": "ipython3",
   "version": "3.8.5"
  },
  "toc": {
   "base_numbering": 1,
   "nav_menu": {},
   "number_sections": true,
   "sideBar": true,
   "skip_h1_title": false,
   "title_cell": "Table of Contents",
   "title_sidebar": "Contents",
   "toc_cell": false,
   "toc_position": {},
   "toc_section_display": true,
   "toc_window_display": false
  },
  "varInspector": {
   "cols": {
    "lenName": 16,
    "lenType": 16,
    "lenVar": 40
   },
   "kernels_config": {
    "python": {
     "delete_cmd_postfix": "",
     "delete_cmd_prefix": "del ",
     "library": "var_list.py",
     "varRefreshCmd": "print(var_dic_list())"
    },
    "r": {
     "delete_cmd_postfix": ") ",
     "delete_cmd_prefix": "rm(",
     "library": "var_list.r",
     "varRefreshCmd": "cat(var_dic_list()) "
    }
   },
   "types_to_exclude": [
    "module",
    "function",
    "builtin_function_or_method",
    "instance",
    "_Feature"
   ],
   "window_display": false
  }
 },
 "nbformat": 4,
 "nbformat_minor": 4
}
